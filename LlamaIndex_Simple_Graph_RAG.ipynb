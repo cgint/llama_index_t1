{
  "nbformat": 4,
  "nbformat_minor": 0,
  "metadata": {
    "colab": {
      "provenance": [],
      "toc_visible": true,
      "include_colab_link": true
    },
    "kernelspec": {
      "name": "python3",
      "display_name": "Python 3"
    },
    "language_info": {
      "name": "python"
    }
  },
  "cells": [
    {
      "cell_type": "markdown",
      "metadata": {
        "id": "view-in-github",
        "colab_type": "text"
      },
      "source": [
        "<a href=\"https://colab.research.google.com/github/cgint/llama_index_t1/blob/main/LlamaIndex_Simple_Graph_RAG.ipynb\" target=\"_parent\"><img src=\"https://colab.research.google.com/assets/colab-badge.svg\" alt=\"Open In Colab\"/></a>"
      ]
    },
    {
      "cell_type": "markdown",
      "source": [
        "\n",
        "\n",
        "## Graph LLM, Demo Outline\n",
        "\n",
        "Got it from [Graph_RAG_LlamaIndex_Workshop.ipynb](https://colab.research.google.com/drive/1tLjOg2ZQuIClfuWrAC2LdiZHCov8oUbs#scrollTo=s5LPkzt1YUIN)\n",
        "\n"
      ],
      "metadata": {
        "id": "iDjEGsguhCzw"
      }
    },
    {
      "cell_type": "markdown",
      "source": [
        "\n",
        "### Graph RAG\n",
        "\n",
        "> Graph RAG with LLM\n",
        "\n",
        "![Graph RAG](https://github.com/siwei-io/talks/assets/1651790/f783b592-7a8f-4eab-bd61-cf0837e83870)\n",
        "\n",
        "\n",
        "> Query time workflow:\n",
        "\n",
        "- Get Key Entities/Relationships related to task\n",
        "  - LLM or NLP to extract from task string\n",
        "  - Expand synonyms\n",
        "- Get SubGraphs\n",
        "  - Exact matching of \"Starting Point\"\n",
        "  - Optionally Embedding based\n",
        "- Generate answer based on SubGraphs\n",
        "  - Could be combined with other RAG\n",
        "  - If KG was built with LlamaIndex, metadata could be leveraged\n",
        "\n",
        "> Values\n",
        "\n",
        "- KG is __ of Knowledge:\n",
        "  - Refined and Concise Form\n",
        "  - Fine-grained Segmentation\n",
        "  - Interconnected-structured nature\n",
        "- Knowledge in (existing) KG is Accurate\n",
        "- Query towards KG is Stable yet Deterministic\n",
        "- Reasoning/Info. in KG persist domain knowledge\n",
        "\n",
        "> Refs:\n",
        "\n",
        "- https://gpt-index.readthedocs.io/en/stable/examples/index_structs/knowledge_graph/KnowledgeGraphIndex_vs_VectorStoreIndex_vs_CustomIndex_combined.html\n",
        "- https://gpt-index.readthedocs.io/en/stable/examples/query_engine/knowledge_graph_rag_query_engine.html\n",
        "- https://gpt-index.readthedocs.io/en/stable/examples/index_structs/knowledge_graph/KnowledgeGraphDemo.html\n",
        "- https://siwei.io/talks/graph-rag-with-jerry/\n",
        "- https://www.youtube.com/watch?v=bPoNCkjDmco"
      ],
      "metadata": {
        "id": "AQp9z4hRqNpy"
      }
    },
    {
      "cell_type": "markdown",
      "source": [
        "### KG Building\n",
        "\n",
        "![KG Building](https://github.com/siwei-io/talks/assets/1651790/495e035e-7975-4b77-987a-26f8e1d763d2)\n",
        "\n",
        "> Value\n",
        "\n",
        "- Game-changer for ROI on adaptation of Graph\n",
        "  - NLP Competence and efforts\n",
        "  - Complex Pipelines\n",
        "- Those \"nice to have\" graphs can now be enabled by Graph at a small cost\n",
        "\n",
        "> Refs\n",
        "- https://gpt-index.readthedocs.io/en/stable/examples/index_structs/knowledge_graph/NebulaGraphKGIndexDemo.html#instantiate-gptnebulagraph-kg-indexes\n",
        "- https://gpt-index.readthedocs.io/en/stable/examples/query_engine/knowledge_graph_query_engine.html\n",
        "- https://colab.research.google.com/drive/1G6pcR0pXvSkdMQlAK_P-IrYgo-_staxd?usp=sharing\n",
        "- https://siwei.io/en/demos/text2cypher/\n",
        "- https://siwei.io/demo-dumps/kg-llm/KG_Building.ipynb\n",
        "- https://siwei.io/demo-dumps/kg-llm/KG_Building.html"
      ],
      "metadata": {
        "id": "X45JFcoqqO_c"
      }
    },
    {
      "cell_type": "markdown",
      "source": [
        "# How\n",
        "\n",
        "with LlamaIndex and Simple Graph in memory"
      ],
      "metadata": {
        "id": "597Ejvia1tn4"
      }
    },
    {
      "cell_type": "markdown",
      "source": [
        "## Concepts\n",
        "\n",
        "REF: https://gpt-index.readthedocs.io/en/stable/getting_started/concepts.html\n",
        "\n",
        "### RAG\n",
        "\n",
        "Retrieval Augmented Generation:\n",
        "\n",
        "![](https://gpt-index.readthedocs.io/en/stable/_images/rag.jpg)\n",
        "\n",
        "### Indexing Stage\n",
        "\n",
        "![](https://gpt-index.readthedocs.io/en/stable/_images/indexing.jpg)\n",
        "- [Data Connectors(LlamaHub)](https://gpt-index.readthedocs.io/en/stable/core_modules/data_modules/connector/root.html)\n",
        "\n",
        "- Documents\n",
        "  - Nodes(Chunk)\n",
        "- Index\n",
        "  - VectorIndex\n",
        "  - [KnowledgeGraphIndex](https://gpt-index.readthedocs.io/en/stable/examples/index_structs/knowledge_graph/KnowledgeGraphDemo.html), create KG from data, Graph RAG\n",
        "  - SQLIndex\n",
        "\n",
        "\n",
        "### Querying Stage\n",
        "\n",
        "- Query Engine/Chat Engine Agent(input text, output answer)\n",
        "  - [KnowledgeGraphQueryEngine](https://gpt-index.readthedocs.io/en/stable/examples/query_engine/knowledge_graph_query_engine.html), Text2Cypher Query engine\n",
        "- Retriever(input text, output nodes)\n",
        "  - [KnowledgeGraphRAGRetriever](https://gpt-index.readthedocs.io/en/stable/examples/query_engine/knowledge_graph_rag_query_engine.html), for existing KG wired as Graph RAG\n",
        "- Node Postprocessor(Reranking, filterring nodes)\n",
        "- Response Synthesizer(input nodes, output answer)\n",
        "\n",
        "![](https://gpt-index.readthedocs.io/en/stable/_images/querying.jpg)\n",
        "\n",
        "\n",
        "### Context\n",
        "\n",
        "REF:\n",
        "- https://gpt-index.readthedocs.io/en/stable/core_modules/supporting_modules/service_context.html\n",
        "- https://gpt-index.readthedocs.io/en/stable/api_reference/storage.html\n",
        "\n",
        "\n",
        "\n",
        "Service context\n",
        "\n",
        "- LLM\n",
        "- Embedding Model\n",
        "- Prompt Helper\n",
        "\n",
        "Storage context\n",
        "\n",
        "- Vector Store\n",
        "- Graph Store\n",
        "\n",
        "\n",
        "\n"
      ],
      "metadata": {
        "id": "JaWbX94e16hi"
      }
    },
    {
      "cell_type": "markdown",
      "source": [
        "## Key KG related components\n",
        "\n",
        "- [KnowledgeGraphIndex](https://gpt-index.readthedocs.io/en/stable/examples/index_structs/knowledge_graph/KnowledgeGraphDemo.html) is an Index to:\n",
        "  - Indexing stage:\n",
        "    - Extract data into KG with LLM or any other callable models\n",
        "    - Persist KG data into `storeage_context.graph_store`\n",
        "  - Querying stage:\n",
        "    - `as_query_engine()` to enable 0-shot Graph RAG\n",
        "    - `as_retriever()` to create an advanced Graph involving RAG\n",
        "- [KnowledgeGraphRAGRetriever](https://gpt-index.readthedocs.io/en/stable/examples/query_engine/knowledge_graph_rag_query_engine.html)\n",
        "  - Instanctiate:\n",
        "    - Create a `storeage_context.graph_store` as the init argument.\n",
        "  - Querying stage:\n",
        "    - pass to `RetrieverQueryEngine` to become a Graph RAG query engine on any existing KG\n",
        "    - combined with other RAG pipeline\n",
        "\n",
        "- [KnowledgeGraphQueryEngine](https://gpt-index.readthedocs.io/en/stable/examples/query_engine/knowledge_graph_query_engine.html), Text2Cypher Query engine\n",
        "  - Instanctiate:\n",
        "    - Create a `storeage_context.graph_store` as the init argument.\n",
        "  - Querying stage:\n",
        "    - Text2cypher to get answers towards the KG in graph_store.\n",
        "    - Optionally, `generate_query()` only compose a cypher query."
      ],
      "metadata": {
        "id": "_GEZj4Pg8bjf"
      }
    },
    {
      "cell_type": "markdown",
      "source": [
        "## Preparation\n",
        "\n",
        "Install Dependencies, prepare for contexts of Llama Index"
      ],
      "metadata": {
        "id": "s5LPkzt1YUIN"
      }
    },
    {
      "cell_type": "code",
      "source": [
        "%pip install openai llama_index pyvis"
      ],
      "metadata": {
        "id": "mdEYgeyeT7aI",
        "colab": {
          "base_uri": "https://localhost:8080/"
        },
        "outputId": "0b77e342-492e-45c6-87fb-c768cc5f0f91"
      },
      "execution_count": 1,
      "outputs": [
        {
          "output_type": "stream",
          "name": "stdout",
          "text": [
            "Requirement already satisfied: openai in /usr/local/lib/python3.10/dist-packages (1.6.1)\n",
            "Requirement already satisfied: llama_index in /usr/local/lib/python3.10/dist-packages (0.9.24)\n",
            "Requirement already satisfied: pyvis in /usr/local/lib/python3.10/dist-packages (0.3.2)\n",
            "Requirement already satisfied: anyio<5,>=3.5.0 in /usr/local/lib/python3.10/dist-packages (from openai) (3.7.1)\n",
            "Requirement already satisfied: distro<2,>=1.7.0 in /usr/lib/python3/dist-packages (from openai) (1.7.0)\n",
            "Requirement already satisfied: httpx<1,>=0.23.0 in /usr/local/lib/python3.10/dist-packages (from openai) (0.26.0)\n",
            "Requirement already satisfied: pydantic<3,>=1.9.0 in /usr/local/lib/python3.10/dist-packages (from openai) (1.10.13)\n",
            "Requirement already satisfied: sniffio in /usr/local/lib/python3.10/dist-packages (from openai) (1.3.0)\n",
            "Requirement already satisfied: tqdm>4 in /usr/local/lib/python3.10/dist-packages (from openai) (4.66.1)\n",
            "Requirement already satisfied: typing-extensions<5,>=4.7 in /usr/local/lib/python3.10/dist-packages (from openai) (4.9.0)\n",
            "Requirement already satisfied: SQLAlchemy[asyncio]>=1.4.49 in /usr/local/lib/python3.10/dist-packages (from llama_index) (2.0.23)\n",
            "Requirement already satisfied: aiohttp<4.0.0,>=3.8.6 in /usr/local/lib/python3.10/dist-packages (from llama_index) (3.9.1)\n",
            "Requirement already satisfied: beautifulsoup4<5.0.0,>=4.12.2 in /usr/local/lib/python3.10/dist-packages (from llama_index) (4.12.2)\n",
            "Requirement already satisfied: dataclasses-json in /usr/local/lib/python3.10/dist-packages (from llama_index) (0.6.3)\n",
            "Requirement already satisfied: deprecated>=1.2.9.3 in /usr/local/lib/python3.10/dist-packages (from llama_index) (1.2.14)\n",
            "Requirement already satisfied: fsspec>=2023.5.0 in /usr/local/lib/python3.10/dist-packages (from llama_index) (2023.6.0)\n",
            "Requirement already satisfied: nest-asyncio<2.0.0,>=1.5.8 in /usr/local/lib/python3.10/dist-packages (from llama_index) (1.5.8)\n",
            "Requirement already satisfied: nltk<4.0.0,>=3.8.1 in /usr/local/lib/python3.10/dist-packages (from llama_index) (3.8.1)\n",
            "Requirement already satisfied: numpy in /usr/local/lib/python3.10/dist-packages (from llama_index) (1.23.5)\n",
            "Requirement already satisfied: pandas in /usr/local/lib/python3.10/dist-packages (from llama_index) (1.5.3)\n",
            "Requirement already satisfied: requests>=2.31.0 in /usr/local/lib/python3.10/dist-packages (from llama_index) (2.31.0)\n",
            "Requirement already satisfied: tenacity<9.0.0,>=8.2.0 in /usr/local/lib/python3.10/dist-packages (from llama_index) (8.2.3)\n",
            "Requirement already satisfied: tiktoken>=0.3.3 in /usr/local/lib/python3.10/dist-packages (from llama_index) (0.5.2)\n",
            "Requirement already satisfied: typing-inspect>=0.8.0 in /usr/local/lib/python3.10/dist-packages (from llama_index) (0.9.0)\n",
            "Requirement already satisfied: ipython>=5.3.0 in /usr/local/lib/python3.10/dist-packages (from pyvis) (7.34.0)\n",
            "Requirement already satisfied: jinja2>=2.9.6 in /usr/local/lib/python3.10/dist-packages (from pyvis) (3.1.2)\n",
            "Requirement already satisfied: jsonpickle>=1.4.1 in /usr/local/lib/python3.10/dist-packages (from pyvis) (3.0.2)\n",
            "Requirement already satisfied: networkx>=1.11 in /usr/local/lib/python3.10/dist-packages (from pyvis) (3.2.1)\n",
            "Requirement already satisfied: attrs>=17.3.0 in /usr/local/lib/python3.10/dist-packages (from aiohttp<4.0.0,>=3.8.6->llama_index) (23.1.0)\n",
            "Requirement already satisfied: multidict<7.0,>=4.5 in /usr/local/lib/python3.10/dist-packages (from aiohttp<4.0.0,>=3.8.6->llama_index) (6.0.4)\n",
            "Requirement already satisfied: yarl<2.0,>=1.0 in /usr/local/lib/python3.10/dist-packages (from aiohttp<4.0.0,>=3.8.6->llama_index) (1.9.4)\n",
            "Requirement already satisfied: frozenlist>=1.1.1 in /usr/local/lib/python3.10/dist-packages (from aiohttp<4.0.0,>=3.8.6->llama_index) (1.4.1)\n",
            "Requirement already satisfied: aiosignal>=1.1.2 in /usr/local/lib/python3.10/dist-packages (from aiohttp<4.0.0,>=3.8.6->llama_index) (1.3.1)\n",
            "Requirement already satisfied: async-timeout<5.0,>=4.0 in /usr/local/lib/python3.10/dist-packages (from aiohttp<4.0.0,>=3.8.6->llama_index) (4.0.3)\n",
            "Requirement already satisfied: idna>=2.8 in /usr/local/lib/python3.10/dist-packages (from anyio<5,>=3.5.0->openai) (3.6)\n",
            "Requirement already satisfied: exceptiongroup in /usr/local/lib/python3.10/dist-packages (from anyio<5,>=3.5.0->openai) (1.2.0)\n",
            "Requirement already satisfied: soupsieve>1.2 in /usr/local/lib/python3.10/dist-packages (from beautifulsoup4<5.0.0,>=4.12.2->llama_index) (2.5)\n",
            "Requirement already satisfied: wrapt<2,>=1.10 in /usr/local/lib/python3.10/dist-packages (from deprecated>=1.2.9.3->llama_index) (1.14.1)\n",
            "Requirement already satisfied: certifi in /usr/local/lib/python3.10/dist-packages (from httpx<1,>=0.23.0->openai) (2023.11.17)\n",
            "Requirement already satisfied: httpcore==1.* in /usr/local/lib/python3.10/dist-packages (from httpx<1,>=0.23.0->openai) (1.0.2)\n",
            "Requirement already satisfied: h11<0.15,>=0.13 in /usr/local/lib/python3.10/dist-packages (from httpcore==1.*->httpx<1,>=0.23.0->openai) (0.14.0)\n",
            "Requirement already satisfied: setuptools>=18.5 in /usr/local/lib/python3.10/dist-packages (from ipython>=5.3.0->pyvis) (67.7.2)\n",
            "Requirement already satisfied: jedi>=0.16 in /usr/local/lib/python3.10/dist-packages (from ipython>=5.3.0->pyvis) (0.19.1)\n",
            "Requirement already satisfied: decorator in /usr/local/lib/python3.10/dist-packages (from ipython>=5.3.0->pyvis) (4.4.2)\n",
            "Requirement already satisfied: pickleshare in /usr/local/lib/python3.10/dist-packages (from ipython>=5.3.0->pyvis) (0.7.5)\n",
            "Requirement already satisfied: traitlets>=4.2 in /usr/local/lib/python3.10/dist-packages (from ipython>=5.3.0->pyvis) (5.7.1)\n",
            "Requirement already satisfied: prompt-toolkit!=3.0.0,!=3.0.1,<3.1.0,>=2.0.0 in /usr/local/lib/python3.10/dist-packages (from ipython>=5.3.0->pyvis) (3.0.43)\n",
            "Requirement already satisfied: pygments in /usr/local/lib/python3.10/dist-packages (from ipython>=5.3.0->pyvis) (2.16.1)\n",
            "Requirement already satisfied: backcall in /usr/local/lib/python3.10/dist-packages (from ipython>=5.3.0->pyvis) (0.2.0)\n",
            "Requirement already satisfied: matplotlib-inline in /usr/local/lib/python3.10/dist-packages (from ipython>=5.3.0->pyvis) (0.1.6)\n",
            "Requirement already satisfied: pexpect>4.3 in /usr/local/lib/python3.10/dist-packages (from ipython>=5.3.0->pyvis) (4.9.0)\n",
            "Requirement already satisfied: MarkupSafe>=2.0 in /usr/local/lib/python3.10/dist-packages (from jinja2>=2.9.6->pyvis) (2.1.3)\n",
            "Requirement already satisfied: click in /usr/local/lib/python3.10/dist-packages (from nltk<4.0.0,>=3.8.1->llama_index) (8.1.7)\n",
            "Requirement already satisfied: joblib in /usr/local/lib/python3.10/dist-packages (from nltk<4.0.0,>=3.8.1->llama_index) (1.3.2)\n",
            "Requirement already satisfied: regex>=2021.8.3 in /usr/local/lib/python3.10/dist-packages (from nltk<4.0.0,>=3.8.1->llama_index) (2023.6.3)\n",
            "Requirement already satisfied: charset-normalizer<4,>=2 in /usr/local/lib/python3.10/dist-packages (from requests>=2.31.0->llama_index) (3.3.2)\n",
            "Requirement already satisfied: urllib3<3,>=1.21.1 in /usr/local/lib/python3.10/dist-packages (from requests>=2.31.0->llama_index) (2.0.7)\n",
            "Requirement already satisfied: greenlet!=0.4.17 in /usr/local/lib/python3.10/dist-packages (from SQLAlchemy[asyncio]>=1.4.49->llama_index) (3.0.2)\n",
            "Requirement already satisfied: mypy-extensions>=0.3.0 in /usr/local/lib/python3.10/dist-packages (from typing-inspect>=0.8.0->llama_index) (1.0.0)\n",
            "Requirement already satisfied: marshmallow<4.0.0,>=3.18.0 in /usr/local/lib/python3.10/dist-packages (from dataclasses-json->llama_index) (3.20.1)\n",
            "Requirement already satisfied: python-dateutil>=2.8.1 in /usr/local/lib/python3.10/dist-packages (from pandas->llama_index) (2.8.2)\n",
            "Requirement already satisfied: pytz>=2020.1 in /usr/local/lib/python3.10/dist-packages (from pandas->llama_index) (2023.3.post1)\n",
            "Requirement already satisfied: parso<0.9.0,>=0.8.3 in /usr/local/lib/python3.10/dist-packages (from jedi>=0.16->ipython>=5.3.0->pyvis) (0.8.3)\n",
            "Requirement already satisfied: packaging>=17.0 in /usr/local/lib/python3.10/dist-packages (from marshmallow<4.0.0,>=3.18.0->dataclasses-json->llama_index) (23.2)\n",
            "Requirement already satisfied: ptyprocess>=0.5 in /usr/local/lib/python3.10/dist-packages (from pexpect>4.3->ipython>=5.3.0->pyvis) (0.7.0)\n",
            "Requirement already satisfied: wcwidth in /usr/local/lib/python3.10/dist-packages (from prompt-toolkit!=3.0.0,!=3.0.1,<3.1.0,>=2.0.0->ipython>=5.3.0->pyvis) (0.2.12)\n",
            "Requirement already satisfied: six>=1.5 in /usr/local/lib/python3.10/dist-packages (from python-dateutil>=2.8.1->pandas->llama_index) (1.16.0)\n"
          ]
        }
      ]
    },
    {
      "cell_type": "code",
      "source": [
        "# For OpenAI\n",
        "\n",
        "import os\n",
        "\n",
        "os.environ[\"OPENAI_API_KEY\"] = \"sk-...\"\n",
        "\n",
        "import logging\n",
        "import sys\n",
        "\n",
        "logging.basicConfig(\n",
        "    stream=sys.stdout, level=logging.INFO\n",
        ")\n",
        "\n",
        "from llama_index import (\n",
        "    VectorStoreIndex,\n",
        "    SimpleDirectoryReader,\n",
        "    KnowledgeGraphIndex,\n",
        "    ServiceContext,\n",
        ")\n",
        "\n",
        "from llama_index.storage.storage_context import StorageContext\n",
        "from llama_index.graph_stores import NebulaGraphStore\n",
        "\n",
        "import logging\n",
        "import sys\n",
        "\n",
        "from IPython.display import Markdown, display\n",
        "\n",
        "\n",
        "from llama_index.llms import OpenAI\n",
        "from llama_index import set_global_service_context\n",
        "\n",
        "# define LLM\n",
        "llm = OpenAI(temperature=0, model=\"gpt-4-1106-preview\") # gpt-3.5-turbo-1106\n",
        "service_context = ServiceContext.from_defaults(llm=llm, chunk_size=512)\n",
        "\n",
        "# set global service context\n",
        "set_global_service_context(service_context)"
      ],
      "metadata": {
        "id": "x_rIydAQQTT7"
      },
      "execution_count": 2,
      "outputs": []
    },
    {
      "cell_type": "markdown",
      "source": [
        "## Create a Graph Space\n",
        "\n",
        "KnowledgeGraphIndex on SimpleGraphStore\n"
      ],
      "metadata": {
        "id": "kkHpLzEuYo_9"
      }
    },
    {
      "cell_type": "markdown",
      "source": [
        "## Storage_context with Graph_Store"
      ],
      "metadata": {
        "id": "MgOeUJ3QbfoZ"
      }
    },
    {
      "cell_type": "code",
      "source": [
        "from llama_index.graph_stores import SimpleGraphStore\n",
        "graph_store = SimpleGraphStore()\n",
        "storage_context = StorageContext.from_defaults(graph_store=graph_store)"
      ],
      "metadata": {
        "id": "3ArMP3vrBDUj"
      },
      "execution_count": 3,
      "outputs": []
    },
    {
      "cell_type": "markdown",
      "source": [
        "## 🏗️ KG Building with Llama Index"
      ],
      "metadata": {
        "id": "3yWYQzpq9UWb"
      }
    },
    {
      "cell_type": "markdown",
      "source": [
        "### Preprocess Data with data connectors\n",
        "\n",
        "with `WikipediaReader`\n",
        "\n",
        "We will download and preprecess data from:\n",
        "    https://en.wikipedia.org/wiki/Guardians_of_the_Galaxy_Vol._3"
      ],
      "metadata": {
        "id": "H9D9oVyBGdXU"
      }
    },
    {
      "cell_type": "code",
      "source": [
        "from llama_index import download_loader\n",
        "\n",
        "WikipediaReader = download_loader(\"WikipediaReader\")\n",
        "\n",
        "loader = WikipediaReader()\n",
        "\n",
        "documents = loader.load_data(pages=['Guardians of the Galaxy Vol. 3'], auto_suggest=False)"
      ],
      "metadata": {
        "id": "5t30TRBkGadF"
      },
      "execution_count": 4,
      "outputs": []
    },
    {
      "cell_type": "markdown",
      "source": [
        "### Indexing Extract Triplets and Save to KnowledgeGraph\n",
        "\n",
        "with `KnowledgeGraphIndex`\n",
        "\n",
        "This call will take some time, it'll extract entities and relationships and store them into KnowledgeGraph"
      ],
      "metadata": {
        "id": "fzP47o2ZGgev"
      }
    },
    {
      "cell_type": "code",
      "source": [
        "print(f\"About to build index over {len(documents)} document(s) ...\")\n",
        "kg_index = KnowledgeGraphIndex.from_documents(\n",
        "    documents,\n",
        "    storage_context=storage_context,\n",
        "    service_context=service_context,\n",
        "    max_triplets_per_chunk=10,\n",
        "    include_embeddings=True\n",
        ")"
      ],
      "metadata": {
        "id": "LkxaqAotGmbX"
      },
      "execution_count": 5,
      "outputs": []
    },
    {
      "cell_type": "markdown",
      "source": [
        "## 🧠 Graph RAG\n",
        "\n"
      ],
      "metadata": {
        "id": "XLK-uhfxdZZV"
      }
    },
    {
      "cell_type": "markdown",
      "source": [
        "### KG_Index as **Query Engine**"
      ],
      "metadata": {
        "id": "h-RxD8fnAtiy"
      }
    },
    {
      "cell_type": "code",
      "source": [
        "kg_index_query_engine = kg_index.as_query_engine(\n",
        "    retriever_mode=\"keyword\",\n",
        "    verbose=True,\n",
        "    response_mode=\"tree_summarize\",\n",
        ")"
      ],
      "metadata": {
        "id": "yDXW15OrHo7u"
      },
      "execution_count": 6,
      "outputs": []
    },
    {
      "cell_type": "code",
      "source": [
        "response_graph_rag = kg_index_query_engine.query(\"What challenges do Rocket and Lylla face?\")\n",
        "\n",
        "display(Markdown(f\"<b>{response_graph_rag}</b>\"))"
      ],
      "metadata": {
        "colab": {
          "base_uri": "https://localhost:8080/",
          "height": 813
        },
        "id": "84nzpNb_A2GP",
        "outputId": "a78b016d-7d26-47e9-e9d0-82e92a0a7ee3"
      },
      "execution_count": 7,
      "outputs": [
        {
          "output_type": "stream",
          "name": "stdout",
          "text": [
            "\u001b[1;3;32mExtracted keywords: ['Lylla', 'Rocket', 'challenges']\n",
            "\u001b[0m\u001b[1;3;34mKG context:\n",
            "The following are knowledge sequence in max depth 2 in the form of directed graph like:\n",
            "`subject -[predicate]->, object, <-[predicate_next_hop]-, object_next_hop ...`\n",
            "['Lylla', 'informs', 'Rocket his time has not yet come']\n",
            "['Rocket', 'critically wounded by', 'Adam Warlock']\n",
            "['Adam Warlock', 'created by', 'High Priestess Ayesha']\n",
            "['Adam Warlock', 'included in script', 'Vol. 2']\n",
            "['Rocket', 'has kill switch embedded by', 'Orgocorp']\n",
            "['Rocket', 'befriended', 'Lylla']\n",
            "['Lylla', 'informs', 'Rocket his time has not yet come']\n",
            "['Rocket', 'fled in', 'spaceship']\n",
            "['Rocket', 'has', 'near-death experience']\n",
            "['Rocket', 'reunites with', 'Lylla']\n",
            "['Lylla', 'informs', 'Rocket his time has not yet come']\n",
            "['Rocket', 'reunites with', 'Teefs']\n",
            "['Rocket', 'reunites with', 'Floor']\n",
            "['Rocket', 'could exist in', 'MCU']\n",
            "['Rocket', 'is character in', 'Guardians of the Galaxy Vol. 3']\n",
            "['Guardians of the Galaxy Vol. 3', 'is', 'film']\n",
            "['Guardians of the Galaxy Vol. 3', 'released in', '2023']\n",
            "['Guardians of the Galaxy Vol. 3', 'produced by', 'Marvel Studios']\n",
            "['Guardians of the Galaxy Vol. 3', 'distributed by', 'Walt Disney Studios Motion Pictures']\n",
            "['Guardians of the Galaxy Vol. 3', 'is sequel to', 'Guardians of the Galaxy']\n",
            "['Guardians of the Galaxy Vol. 3', 'is sequel to', 'Guardians of the Galaxy Vol. 2']\n",
            "['Guardians of the Galaxy Vol. 3', 'is part of', 'Marvel Cinematic Universe']\n",
            "['Guardians of the Galaxy Vol. 3', 'premiered at', 'Disneyland Paris']\n",
            "['Guardians of the Galaxy Vol. 3', 'grossed over', '$845 million']\n",
            "['Guardians of the Galaxy Vol. 3', 'set after', 'Avengers: Infinity War and Avengers: Endgame']\n",
            "['Guardians of the Galaxy Vol. 3', 'would conclude', 'story of this iteration of the Guardians of the Galaxy']\n",
            "['Guardians of the Galaxy Vol. 3', 'set after', 'Avengers: Infinity War']\n",
            "['Guardians of the Galaxy Vol. 3', 'set after', 'Avengers: Endgame']\n",
            "['Guardians of the Galaxy Vol. 3', 'had early screening at', 'Dongdaemun Design Plaza']\n",
            "['Guardians of the Galaxy Vol. 3', 'released by', 'Walt Disney Studios Home Entertainment']\n",
            "['Guardians of the Galaxy Vol. 3', 'Ultra HD Blu-ray release date', 'August 1']\n",
            "\u001b[0m"
          ]
        },
        {
          "output_type": "display_data",
          "data": {
            "text/plain": [
              "<IPython.core.display.Markdown object>"
            ],
            "text/markdown": "<b>Rocket and Lylla face several challenges throughout their experiences. Rocket is critically wounded by Adam Warlock, which is a significant challenge as it puts his life in danger. Additionally, Rocket has a kill switch embedded in him by Orgocorp, which poses a threat to his life and requires the Guardians to find an override code to save him. Lylla, as an associate and friend of Rocket, is killed by the High Evolutionary, which is a traumatic event for Rocket, who is deeply affected by the loss of his friend. Rocket also faces the emotional challenge of being experimented on by the High Evolutionary and the pain of losing his fellow Batch 89 test subjects, Lylla, Teefs, and Floor. During a near-death experience, Rocket reunites with Lylla, Teefs, and Floor, and Lylla informs him that his time has not yet come, indicating that despite the challenges, Rocket still has a role to play.</b>"
          },
          "metadata": {}
        }
      ]
    },
    {
      "cell_type": "code",
      "source": [
        "response_graph_rag = kg_index_query_engine.query(\"Tell me about James Gunn.\")\n",
        "\n",
        "display(Markdown(f\"<b>{response_graph_rag}</b>\"))"
      ],
      "metadata": {
        "colab": {
          "base_uri": "https://localhost:8080/",
          "height": 1000
        },
        "id": "3RjL-mkaHvjK",
        "outputId": "849ffd18-ffb2-4bc3-ecc0-91dee5e508b1"
      },
      "execution_count": 8,
      "outputs": [
        {
          "output_type": "stream",
          "name": "stdout",
          "text": [
            "\u001b[1;3;32mExtracted keywords: ['James Gunn', 'James', 'Gunn']\n",
            "\u001b[0m\u001b[1;3;34mKG context:\n",
            "The following are knowledge sequence in max depth 2 in the form of directed graph like:\n",
            "`subject -[predicate]->, object, <-[predicate_next_hop]-, object_next_hop ...`\n",
            "['James Gunn', 'wrote and directed', 'Guardians of the Galaxy Vol. 3']\n",
            "['Guardians of the Galaxy Vol. 3', 'is', 'film']\n",
            "['Guardians of the Galaxy Vol. 3', 'released in', '2023']\n",
            "['Guardians of the Galaxy Vol. 3', 'produced by', 'Marvel Studios']\n",
            "['Guardians of the Galaxy Vol. 3', 'distributed by', 'Walt Disney Studios Motion Pictures']\n",
            "['Guardians of the Galaxy Vol. 3', 'is sequel to', 'Guardians of the Galaxy']\n",
            "['Guardians of the Galaxy Vol. 3', 'is sequel to', 'Guardians of the Galaxy Vol. 2']\n",
            "['Guardians of the Galaxy Vol. 3', 'is part of', 'Marvel Cinematic Universe']\n",
            "['Guardians of the Galaxy Vol. 3', 'premiered at', 'Disneyland Paris']\n",
            "['Guardians of the Galaxy Vol. 3', 'grossed over', '$845 million']\n",
            "['Guardians of the Galaxy Vol. 3', 'set after', 'Avengers: Infinity War and Avengers: Endgame']\n",
            "['Guardians of the Galaxy Vol. 3', 'would conclude', 'story of this iteration of the Guardians of the Galaxy']\n",
            "['Guardians of the Galaxy Vol. 3', 'set after', 'Avengers: Infinity War']\n",
            "['Guardians of the Galaxy Vol. 3', 'set after', 'Avengers: Endgame']\n",
            "['Guardians of the Galaxy Vol. 3', 'had early screening at', 'Dongdaemun Design Plaza']\n",
            "['Guardians of the Galaxy Vol. 3', 'released by', 'Walt Disney Studios Home Entertainment']\n",
            "['Guardians of the Galaxy Vol. 3', 'Ultra HD Blu-ray release date', 'August 1']\n",
            "['Guardians of the Galaxy Vol. 3', 'Blu-ray release date', 'August 1']\n",
            "['Guardians of the Galaxy Vol. 3', 'DVD release date', 'August 1']\n",
            "['Guardians of the Galaxy Vol. 3', 'Disney+ release date', 'August 2']\n",
            "['Guardians of the Galaxy Vol. 3', 'IMAX Enhanced version available on', 'Disney+']\n",
            "['Guardians of the Galaxy Vol. 3', 'grossed in US and Canada', '$359 million']\n",
            "['Guardians of the Galaxy Vol. 3', 'grossed in other territories', '$486.6 million']\n",
            "['Guardians of the Galaxy Vol. 3', 'worldwide total gross', '$845.6 million']\n",
            "['Guardians of the Galaxy Vol. 3', 'opening weekend projection in US and Canada', '$110 million']\n",
            "['Guardians of the Galaxy Vol. 3', 'first day gross', '$48.2 million']\n",
            "['Guardians of the Galaxy Vol. 3', 'Thursday night previews gross', '$17.5 million']\n",
            "['Guardians of the Galaxy Vol. 3', 'opening weekend gross', '$118.4 million']\n",
            "['Guardians of the Galaxy Vol. 3', 'second weekend gross', '$62 million']\n",
            "['Guardians of the Galaxy Vol. 3', 'second-weekend hold in MCU', 'best']\n",
            "['James', 'had', 'offensive attitudes and statements on Twitter']\n",
            "['Gunn', 'denies', 'Star-Lord and Nebula becoming a couple']\n",
            "['Gunn', 'thought', \"Warlock's interactions were interesting juxtaposition\"]\n",
            "['Gunn', 'described', 'Warlock as more traditional superhero']\n",
            "['Gunn', 'likened', 'High Evolutionary to Doctor Moreau']\n",
            "['Gunn', 'focused on', \"Evolutionary's single-mindedness and narcissistic personality\"]\n",
            "['Gunn', 'changed gender of', 'Cosmo']\n",
            "['Cosmo', 'is', 'sapient dog']\n",
            "['Cosmo', 'developed', 'psionic abilities']\n",
            "['Cosmo', 'inspired by', 'Laika']\n",
            "['Cosmo', 'is', 'sapient dog']\n",
            "['Cosmo', 'developed', 'psionic abilities']\n",
            "['Gunn', 'changed gender of Cosmo from', 'male to female']\n",
            "['Gunn', 'announced return', 'April 2017']\n",
            "['Gunn', 'would write and direct', 'Guardians of the Galaxy Vol. 3']\n",
            "['Guardians of the Galaxy Vol. 3', 'is', 'film']\n",
            "['Guardians of the Galaxy Vol. 3', 'released in', '2023']\n",
            "['Guardians of the Galaxy Vol. 3', 'produced by', 'Marvel Studios']\n",
            "['Guardians of the Galaxy Vol. 3', 'distributed by', 'Walt Disney Studios Motion Pictures']\n",
            "['Guardians of the Galaxy Vol. 3', 'is sequel to', 'Guardians of the Galaxy']\n",
            "['Guardians of the Galaxy Vol. 3', 'is sequel to', 'Guardians of the Galaxy Vol. 2']\n",
            "['Guardians of the Galaxy Vol. 3', 'is part of', 'Marvel Cinematic Universe']\n",
            "['Guardians of the Galaxy Vol. 3', 'premiered at', 'Disneyland Paris']\n",
            "['Guardians of the Galaxy Vol. 3', 'grossed over', '$845 million']\n",
            "['Guardians of the Galaxy Vol. 3', 'set after', 'Avengers: Infinity War and Avengers: Endgame']\n",
            "['Guardians of the Galaxy Vol. 3', 'would conclude', 'story of this iteration of the Guardians of the Galaxy']\n",
            "['Guardians of the Galaxy Vol. 3', 'set after', 'Avengers: Infinity War']\n",
            "['Guardians of the Galaxy Vol. 3', 'set after', 'Avengers: Endgame']\n",
            "['Guardians of the Galaxy Vol. 3', 'had early screening at', 'Dongdaemun Design Plaza']\n",
            "['Guardians of the Galaxy Vol. 3', 'released by', 'Walt Disney Studios Home Entertainment']\n",
            "['Guardians of the Galaxy Vol. 3', 'Ultra HD Blu-ray release date', 'August 1']\n",
            "\u001b[0m"
          ]
        },
        {
          "output_type": "display_data",
          "data": {
            "text/plain": [
              "<IPython.core.display.Markdown object>"
            ],
            "text/markdown": "<b>James Gunn is a filmmaker who wrote and directed \"Guardians of the Galaxy Vol. 3,\" which is a film released in 2023. He has been involved with the Marvel Cinematic Universe, particularly with the Guardians of the Galaxy franchise, having directed the previous two installments as well. His work on \"Guardians of the Galaxy Vol. 3\" was intended to conclude the story of the current iteration of the Guardians and to help launch new and existing Marvel characters into the future of the MCU. Despite facing a setback due to offensive statements discovered on his Twitter feed, which led to his temporary firing by Disney, Gunn was eventually rehired to continue his work on the third Guardians film. The film was produced by Marvel Studios and distributed by Walt Disney Studios Motion Pictures. It is a sequel to \"Guardians of the Galaxy\" and \"Guardians of the Galaxy Vol. 2,\" and it follows the events of \"Avengers: Infinity War\" and \"Avengers: Endgame.\" The film premiered at Disneyland Paris and had an early screening at Dongdaemun Design Plaza. It was a commercial success, grossing over $845 million worldwide. James Gunn's involvement with the film also extended to curating its soundtrack, which features a diverse range of music spanning multiple decades.</b>"
          },
          "metadata": {}
        }
      ]
    },
    {
      "cell_type": "code",
      "source": [
        "query_engine = kg_index_query_engine\n",
        "\n",
        "question = \"\"\"\n",
        "Tell me about James Gunn.\n",
        "\"\"\"\n",
        "\n",
        "response_nl2kg = query_engine.query(question)\n",
        "\n",
        "# Answer:\n",
        "\n",
        "print(\"The Answer is:\")\n",
        "\n",
        "display(Markdown(f\"<b>{response_nl2kg}</b>\"))"
      ],
      "metadata": {
        "colab": {
          "base_uri": "https://localhost:8080/",
          "height": 1000
        },
        "id": "Hn1VWjb3Blqz",
        "outputId": "6228d91b-7d63-47d4-a468-fa6445f2aede"
      },
      "execution_count": 9,
      "outputs": [
        {
          "output_type": "stream",
          "name": "stdout",
          "text": [
            "\u001b[1;3;32mExtracted keywords: ['James Gunn', 'James', 'Gunn']\n",
            "\u001b[0m\u001b[1;3;34mKG context:\n",
            "The following are knowledge sequence in max depth 2 in the form of directed graph like:\n",
            "`subject -[predicate]->, object, <-[predicate_next_hop]-, object_next_hop ...`\n",
            "['James Gunn', 'wrote and directed', 'Guardians of the Galaxy Vol. 3']\n",
            "['Guardians of the Galaxy Vol. 3', 'is', 'film']\n",
            "['Guardians of the Galaxy Vol. 3', 'released in', '2023']\n",
            "['Guardians of the Galaxy Vol. 3', 'produced by', 'Marvel Studios']\n",
            "['Guardians of the Galaxy Vol. 3', 'distributed by', 'Walt Disney Studios Motion Pictures']\n",
            "['Guardians of the Galaxy Vol. 3', 'is sequel to', 'Guardians of the Galaxy']\n",
            "['Guardians of the Galaxy Vol. 3', 'is sequel to', 'Guardians of the Galaxy Vol. 2']\n",
            "['Guardians of the Galaxy Vol. 3', 'is part of', 'Marvel Cinematic Universe']\n",
            "['Guardians of the Galaxy Vol. 3', 'premiered at', 'Disneyland Paris']\n",
            "['Guardians of the Galaxy Vol. 3', 'grossed over', '$845 million']\n",
            "['Guardians of the Galaxy Vol. 3', 'set after', 'Avengers: Infinity War and Avengers: Endgame']\n",
            "['Guardians of the Galaxy Vol. 3', 'would conclude', 'story of this iteration of the Guardians of the Galaxy']\n",
            "['Guardians of the Galaxy Vol. 3', 'set after', 'Avengers: Infinity War']\n",
            "['Guardians of the Galaxy Vol. 3', 'set after', 'Avengers: Endgame']\n",
            "['Guardians of the Galaxy Vol. 3', 'had early screening at', 'Dongdaemun Design Plaza']\n",
            "['Guardians of the Galaxy Vol. 3', 'released by', 'Walt Disney Studios Home Entertainment']\n",
            "['Guardians of the Galaxy Vol. 3', 'Ultra HD Blu-ray release date', 'August 1']\n",
            "['Guardians of the Galaxy Vol. 3', 'Blu-ray release date', 'August 1']\n",
            "['Guardians of the Galaxy Vol. 3', 'DVD release date', 'August 1']\n",
            "['Guardians of the Galaxy Vol. 3', 'Disney+ release date', 'August 2']\n",
            "['Guardians of the Galaxy Vol. 3', 'IMAX Enhanced version available on', 'Disney+']\n",
            "['Guardians of the Galaxy Vol. 3', 'grossed in US and Canada', '$359 million']\n",
            "['Guardians of the Galaxy Vol. 3', 'grossed in other territories', '$486.6 million']\n",
            "['Guardians of the Galaxy Vol. 3', 'worldwide total gross', '$845.6 million']\n",
            "['Guardians of the Galaxy Vol. 3', 'opening weekend projection in US and Canada', '$110 million']\n",
            "['Guardians of the Galaxy Vol. 3', 'first day gross', '$48.2 million']\n",
            "['Guardians of the Galaxy Vol. 3', 'Thursday night previews gross', '$17.5 million']\n",
            "['Guardians of the Galaxy Vol. 3', 'opening weekend gross', '$118.4 million']\n",
            "['Guardians of the Galaxy Vol. 3', 'second weekend gross', '$62 million']\n",
            "['Guardians of the Galaxy Vol. 3', 'second-weekend hold in MCU', 'best']\n",
            "['James', 'had', 'offensive attitudes and statements on Twitter']\n",
            "['Gunn', 'denies', 'Star-Lord and Nebula becoming a couple']\n",
            "['Gunn', 'thought', \"Warlock's interactions were interesting juxtaposition\"]\n",
            "['Gunn', 'described', 'Warlock as more traditional superhero']\n",
            "['Gunn', 'likened', 'High Evolutionary to Doctor Moreau']\n",
            "['Gunn', 'focused on', \"Evolutionary's single-mindedness and narcissistic personality\"]\n",
            "['Gunn', 'changed gender of', 'Cosmo']\n",
            "['Cosmo', 'is', 'sapient dog']\n",
            "['Cosmo', 'developed', 'psionic abilities']\n",
            "['Cosmo', 'inspired by', 'Laika']\n",
            "['Cosmo', 'is', 'sapient dog']\n",
            "['Cosmo', 'developed', 'psionic abilities']\n",
            "['Gunn', 'changed gender of Cosmo from', 'male to female']\n",
            "['Gunn', 'announced return', 'April 2017']\n",
            "['Gunn', 'would write and direct', 'Guardians of the Galaxy Vol. 3']\n",
            "['Guardians of the Galaxy Vol. 3', 'is', 'film']\n",
            "['Guardians of the Galaxy Vol. 3', 'released in', '2023']\n",
            "['Guardians of the Galaxy Vol. 3', 'produced by', 'Marvel Studios']\n",
            "['Guardians of the Galaxy Vol. 3', 'distributed by', 'Walt Disney Studios Motion Pictures']\n",
            "['Guardians of the Galaxy Vol. 3', 'is sequel to', 'Guardians of the Galaxy']\n",
            "['Guardians of the Galaxy Vol. 3', 'is sequel to', 'Guardians of the Galaxy Vol. 2']\n",
            "['Guardians of the Galaxy Vol. 3', 'is part of', 'Marvel Cinematic Universe']\n",
            "['Guardians of the Galaxy Vol. 3', 'premiered at', 'Disneyland Paris']\n",
            "['Guardians of the Galaxy Vol. 3', 'grossed over', '$845 million']\n",
            "['Guardians of the Galaxy Vol. 3', 'set after', 'Avengers: Infinity War and Avengers: Endgame']\n",
            "['Guardians of the Galaxy Vol. 3', 'would conclude', 'story of this iteration of the Guardians of the Galaxy']\n",
            "['Guardians of the Galaxy Vol. 3', 'set after', 'Avengers: Infinity War']\n",
            "['Guardians of the Galaxy Vol. 3', 'set after', 'Avengers: Endgame']\n",
            "['Guardians of the Galaxy Vol. 3', 'had early screening at', 'Dongdaemun Design Plaza']\n",
            "['Guardians of the Galaxy Vol. 3', 'released by', 'Walt Disney Studios Home Entertainment']\n",
            "['Guardians of the Galaxy Vol. 3', 'Ultra HD Blu-ray release date', 'August 1']\n",
            "\u001b[0mThe Answer is:\n"
          ]
        },
        {
          "output_type": "display_data",
          "data": {
            "text/plain": [
              "<IPython.core.display.Markdown object>"
            ],
            "text/markdown": "<b>James Gunn is a filmmaker who wrote and directed \"Guardians of the Galaxy Vol. 3,\" which is a film released in 2023. He has been involved with the \"Guardians of the Galaxy\" franchise since the first film and continued his role through the second and third installments. \"Guardians of the Galaxy Vol. 3\" is produced by Marvel Studios and distributed by Walt Disney Studios Motion Pictures. It is a sequel to \"Guardians of the Galaxy\" and \"Guardians of the Galaxy Vol. 2,\" and is part of the Marvel Cinematic Universe (MCU).\n\nThe third film is set after the events of \"Avengers: Infinity War\" and \"Avengers: Endgame\" and is intended to conclude the story of the current iteration of the Guardians of the Galaxy, while also helping to launch new and existing Marvel characters into the future of the MCU. Gunn's work on the film was briefly interrupted when he was fired due to the resurfacing of controversial tweets, but he was later rehired to continue his role as writer and director after a show of support from the cast and public, as well as his professional handling of the situation.\n\nIn addition to his work on the \"Guardians of the Galaxy\" series, Gunn has also been involved in other projects, including serving as an executive producer and consultant on \"Avengers: Infinity War\" and directing \"The Suicide Squad\" for Warner Bros / DC Films. His approach to filmmaking and storytelling has evolved over time, with Gunn himself acknowledging a shift from using shock value to focusing more on love and connection in his work.</b>"
          },
          "metadata": {}
        }
      ]
    },
    {
      "cell_type": "markdown",
      "source": [
        "\n",
        "See also here for comparison of text2cypher & GraphRAG\n",
        "- https://user-images.githubusercontent.com/1651790/260617657-102d00bc-6146-4856-a81f-f953c7254b29.mp4\n",
        "- https://siwei.io/en/demos/text2cypher/\n",
        "\n",
        "> While another idea is to retrieve in both ways and combine the context to fit more use cases.\n"
      ],
      "metadata": {
        "id": "vqFXnKJ2CMBC"
      }
    },
    {
      "cell_type": "markdown",
      "source": [
        "### Graph RAG on any existing KGs\n",
        "\n",
        "with `KnowledgeGraphRAGRetriever`.\n",
        "\n",
        "REF: https://gpt-index.readthedocs.io/en/stable/examples/query_engine/knowledge_graph_rag_query_engine.html#perform-graph-rag-query"
      ],
      "metadata": {
        "id": "KYAacH50C-1t"
      }
    },
    {
      "cell_type": "code",
      "source": [
        "from llama_index.query_engine import RetrieverQueryEngine\n",
        "from llama_index.retrievers import KnowledgeGraphRAGRetriever\n",
        "\n",
        "graph_rag_retriever = KnowledgeGraphRAGRetriever(\n",
        "    storage_context=storage_context,\n",
        "    service_context=service_context,\n",
        "    llm=llm,\n",
        "    verbose=True,\n",
        ")\n",
        "\n",
        "query_engine = RetrieverQueryEngine.from_args(\n",
        "    graph_rag_retriever, service_context=service_context\n",
        ")"
      ],
      "metadata": {
        "id": "1xoT_NIMTLgE"
      },
      "execution_count": 10,
      "outputs": []
    },
    {
      "cell_type": "code",
      "source": [
        "response = query_engine.query(\n",
        "    \"Who is Rocket?\",\n",
        ")\n",
        "display(Markdown(f\"<b>{response}</b>\"))"
      ],
      "metadata": {
        "colab": {
          "base_uri": "https://localhost:8080/",
          "height": 761
        },
        "id": "EniVfVn5U3fC",
        "outputId": "cfe3b877-0dcd-4351-a650-bdb092155a3b"
      },
      "execution_count": 11,
      "outputs": [
        {
          "output_type": "stream",
          "name": "stdout",
          "text": [
            "\u001b[1;3;32mEntities processed: ['Rocket']\n",
            "\u001b[0m\u001b[1;3;32mEntities processed: ['rockets', 'booster', 'missile', 'spacecraft', 'rocket']\n",
            "\u001b[0m\u001b[1;3;34mGraph RAG context:\n",
            "The following are knowledge sequence in max depth 2 in the form of directed graph like:\n",
            "`subject -[predicate]->, object, <-[predicate_next_hop]-, object_next_hop ...` extracted based on key entities as subject:\n",
            "['Rocket', 'critically wounded by', 'Adam Warlock']\n",
            "['Adam Warlock', 'created by', 'High Priestess Ayesha']\n",
            "['Adam Warlock', 'included in script', 'Vol. 2']\n",
            "['Rocket', 'has kill switch embedded by', 'Orgocorp']\n",
            "['Rocket', 'befriended', 'Lylla']\n",
            "['Lylla', 'informs', 'Rocket his time has not yet come']\n",
            "['Rocket', 'fled in', 'spaceship']\n",
            "['Rocket', 'has', 'near-death experience']\n",
            "['Rocket', 'reunites with', 'Lylla']\n",
            "['Lylla', 'informs', 'Rocket his time has not yet come']\n",
            "['Rocket', 'reunites with', 'Teefs']\n",
            "['Rocket', 'reunites with', 'Floor']\n",
            "['Rocket', 'could exist in', 'MCU']\n",
            "['Rocket', 'is character in', 'Guardians of the Galaxy Vol. 3']\n",
            "['Guardians of the Galaxy Vol. 3', 'is', 'film']\n",
            "['Guardians of the Galaxy Vol. 3', 'released in', '2023']\n",
            "['Guardians of the Galaxy Vol. 3', 'produced by', 'Marvel Studios']\n",
            "['Guardians of the Galaxy Vol. 3', 'distributed by', 'Walt Disney Studios Motion Pictures']\n",
            "['Guardians of the Galaxy Vol. 3', 'is sequel to', 'Guardians of the Galaxy']\n",
            "['Guardians of the Galaxy Vol. 3', 'is sequel to', 'Guardians of the Galaxy Vol. 2']\n",
            "['Guardians of the Galaxy Vol. 3', 'is part of', 'Marvel Cinematic Universe']\n",
            "['Guardians of the Galaxy Vol. 3', 'premiered at', 'Disneyland Paris']\n",
            "['Guardians of the Galaxy Vol. 3', 'grossed over', '$845 million']\n",
            "['Guardians of the Galaxy Vol. 3', 'set after', 'Avengers: Infinity War and Avengers: Endgame']\n",
            "['Guardians of the Galaxy Vol. 3', 'would conclude', 'story of this iteration of the Guardians of the Galaxy']\n",
            "['Guardians of the Galaxy Vol. 3', 'set after', 'Avengers: Infinity War']\n",
            "['Guardians of the Galaxy Vol. 3', 'set after', 'Avengers: Endgame']\n",
            "['Guardians of the Galaxy Vol. 3', 'had early screening at', 'Dongdaemun Design Plaza']\n",
            "['Guardians of the Galaxy Vol. 3', 'released by', 'Walt Disney Studios Home Entertainment']\n",
            "['Guardians of the Galaxy Vol. 3', 'Ultra HD Blu-ray release date', 'August 1']\n",
            "\u001b[0m"
          ]
        },
        {
          "output_type": "display_data",
          "data": {
            "text/plain": [
              "<IPython.core.display.Markdown object>"
            ],
            "text/markdown": "<b>Rocket is a character in \"Guardians of the Galaxy Vol. 3,\" a film produced by Marvel Studios and distributed by Walt Disney Studios Motion Pictures. He has a kill switch embedded by Orgocorp, befriended Lylla, and had a near-death experience. Rocket fled in a spaceship, reunited with Lylla, Teefs, and Floor, and could exist in the Marvel Cinematic Universe (MCU). He was critically wounded by Adam Warlock, who was created by High Priestess Ayesha and included in the script of \"Vol. 2.\"</b>"
          },
          "metadata": {}
        }
      ]
    },
    {
      "cell_type": "markdown",
      "source": [
        "### Example of Graph RAG Chat Engine"
      ],
      "metadata": {
        "id": "ajXcbqbSh54Z"
      }
    },
    {
      "cell_type": "markdown",
      "source": [
        "#### The context mode"
      ],
      "metadata": {
        "id": "aKrJ-P0bl7k4"
      }
    },
    {
      "cell_type": "code",
      "source": [
        "from llama_index.memory import ChatMemoryBuffer\n",
        "\n",
        "memory = ChatMemoryBuffer.from_defaults(token_limit=15000)\n",
        "\n",
        "chat_engine = kg_index.as_chat_engine(\n",
        "    chat_mode=\"context\",\n",
        "    memory=memory,\n",
        "    verbose=True\n",
        ")\n",
        "response = chat_engine.chat(\"who is Rocket?\")\n",
        "display(Markdown(f\"<b>{response}</b>\"))\n",
        "\n",
        "response = chat_engine.chat(\"who is Lylla?\")\n",
        "display(Markdown(f\"<b>{response}</b>\"))\n",
        "\n",
        "response = chat_engine.chat(\"who is Groot?\")\n",
        "display(Markdown(f\"<b>{response}</b>\"))\n",
        "\n",
        "response = chat_engine.chat(\"do they all know each other?\")\n",
        "display(Markdown(f\"<b>{response}</b>\"))"
      ],
      "metadata": {
        "colab": {
          "base_uri": "https://localhost:8080/",
          "height": 1000
        },
        "id": "CgzkbXu6hQeo",
        "outputId": "f3b7f710-6db5-45aa-8199-850d1e311fb3"
      },
      "execution_count": 12,
      "outputs": [
        {
          "output_type": "stream",
          "name": "stdout",
          "text": [
            "\u001b[1;3;32mExtracted keywords: ['Rocket']\n",
            "\u001b[0m\u001b[1;3;34mKG context:\n",
            "The following are knowledge sequence in max depth 2 in the form of directed graph like:\n",
            "`subject -[predicate]->, object, <-[predicate_next_hop]-, object_next_hop ...`\n",
            "['Guardians of the Galaxy Vol. 3', 'would conclude', 'story of this iteration of the Guardians of the Galaxy']\n",
            "['Guardians of the Galaxy Vol. 3', 'set after', 'Avengers: Infinity War and Avengers: Endgame']\n",
            "['Guardians of the Galaxy Vol. 3', 'distributed by', 'Walt Disney Studios Motion Pictures']\n",
            "['Guardians of the Galaxy Vol. 3', 'released by', 'Walt Disney Studios Home Entertainment']\n",
            "['Guardians of the Galaxy Vol. 3', 'had early screening at', 'Dongdaemun Design Plaza']\n",
            "['Guardians of the Galaxy Vol. 3', 'is sequel to', 'Guardians of the Galaxy Vol. 2']\n",
            "['Guardians of the Galaxy Vol. 3', 'Ultra HD Blu-ray release date', 'August 1']\n",
            "['Guardians of the Galaxy Vol. 3', 'is part of', 'Marvel Cinematic Universe']\n",
            "['Guardians of the Galaxy Vol. 3', 'is sequel to', 'Guardians of the Galaxy']\n",
            "['Guardians of the Galaxy Vol. 3', 'set after', 'Avengers: Infinity War']\n",
            "['Guardians of the Galaxy Vol. 3', 'premiered at', 'Disneyland Paris']\n",
            "['Guardians of the Galaxy Vol. 3', 'set after', 'Avengers: Endgame']\n",
            "['Guardians of the Galaxy Vol. 3', 'produced by', 'Marvel Studios']\n",
            "['Guardians of the Galaxy Vol. 3', 'grossed over', '$845 million']\n",
            "['Rocket', 'is character in', 'Guardians of the Galaxy Vol. 3']\n",
            "['Guardians of the Galaxy Vol. 3', 'released in', '2023']\n",
            "['Lylla', 'informs', 'Rocket his time has not yet come']\n",
            "['Adam Warlock', 'created by', 'High Priestess Ayesha']\n",
            "['Rocket', 'has kill switch embedded by', 'Orgocorp']\n",
            "['Rocket', 'critically wounded by', 'Adam Warlock']\n",
            "('Gunn', 'considered to tell', \"Rocket's origins\")\n",
            "('Gunn', 'personally identifies with', 'Rocket')\n",
            "['Guardians of the Galaxy Vol. 3', 'is', 'film']\n",
            "['Adam Warlock', 'included in script', 'Vol. 2']\n",
            "['Rocket', 'has', 'near-death experience']\n",
            "['Rocket', 'reunites with', 'Lylla']\n",
            "['Rocket', 'reunites with', 'Floor']\n",
            "['Rocket', 'reunites with', 'Teefs']\n",
            "['Rocket', 'could exist in', 'MCU']\n",
            "['Rocket', 'fled in', 'spaceship']\n",
            "\u001b[0m"
          ]
        },
        {
          "output_type": "display_data",
          "data": {
            "text/plain": [
              "<IPython.core.display.Markdown object>"
            ],
            "text/markdown": "<b>Rocket is a character in the Marvel Cinematic Universe (MCU) and appears in the \"Guardians of the Galaxy\" film series. He is a genetically engineered raccoon-based bounty hunter, expert marksman, and master tactician. Rocket is known for his quick wit, sharp tongue, and a penchant for heavy weaponry. Despite his small size, he is a formidable member of the Guardians of the Galaxy. He is voiced by Bradley Cooper and his on-set motion capture is provided by Sean Gunn. Rocket's character arc is explored throughout the Guardians of the Galaxy films, and he has a particularly significant role in \"Guardians of the Galaxy Vol. 3,\" where his backstory and future are further developed.</b>"
          },
          "metadata": {}
        },
        {
          "output_type": "stream",
          "name": "stdout",
          "text": [
            "\u001b[1;3;32mExtracted keywords: ['Lylla']\n",
            "\u001b[0m\u001b[1;3;34mKG context:\n",
            "The following are knowledge sequence in max depth 2 in the form of directed graph like:\n",
            "`subject -[predicate]->, object, <-[predicate_next_hop]-, object_next_hop ...`\n",
            "('Linda Cardellini', 'provided voice and motion capture for', 'Lylla')\n",
            "['Lylla', 'informs', 'Rocket his time has not yet come']\n",
            "('Rocket', 'befriended', 'Lylla')\n",
            "\u001b[0m"
          ]
        },
        {
          "output_type": "display_data",
          "data": {
            "text/plain": [
              "<IPython.core.display.Markdown object>"
            ],
            "text/markdown": "<b>Lylla is an anthropomorphic otter in the Marvel Cinematic Universe (MCU) and is depicted as an associate and friend of Rocket. In \"Guardians of the Galaxy Vol. 3,\" she is a character from Rocket's past, and Linda Cardellini provides both the voice and motion capture for Lylla. In the film, Lylla is one of the test subjects, along with Rocket, who was experimented on by the High Evolutionary. She played a significant role in Rocket's life and his backstory, as they both were part of the same group of enhanced animals known as Batch 89. Lylla's character is rooted in the Marvel Comics, where she is also portrayed as an otter and has a romantic relationship with Rocket.</b>"
          },
          "metadata": {}
        },
        {
          "output_type": "stream",
          "name": "stdout",
          "text": [
            "\u001b[1;3;32mExtracted keywords: ['Groot']\n",
            "\u001b[0m\u001b[1;3;34mKG context:\n",
            "The following are knowledge sequence in max depth 2 in the form of directed graph like:\n",
            "`subject -[predicate]->, object, <-[predicate_next_hop]-, object_next_hop ...`\n",
            "('Groot', 'is', 'member of the Guardians')\n",
            "['Groot', 'is', 'member of the Guardians']\n",
            "['Groot', 'is', 'tree-like humanoid']\n",
            "('Groot', 'is', 'tree-like humanoid')\n",
            "\u001b[0m"
          ]
        },
        {
          "output_type": "display_data",
          "data": {
            "text/plain": [
              "<IPython.core.display.Markdown object>"
            ],
            "text/markdown": "<b>Groot is a fictional character in the Marvel Cinematic Universe (MCU), featured prominently in the \"Guardians of the Galaxy\" film series. He is a member of the Guardians and is characterized as a tree-like humanoid with the ability to regenerate and grow from even the smallest twig. Groot is known for his limited vocabulary, typically only saying \"I am Groot,\" which is understood by his close companion Rocket.\n\nIn the MCU, Groot is voiced by Vin Diesel, who provides the voice for the character in various forms, including his adult, adolescent, and baby versions. The motion-capture for Groot in \"Guardians of the Galaxy Vol. 3\" is provided by Austin Freeman.\n\nGroot's character is beloved for his innocence, loyalty, and the unique dynamic he brings to the Guardians team. Despite his simple speech, Groot often conveys a wide range of emotions and has been a central figure in many of the Guardians' adventures.</b>"
          },
          "metadata": {}
        },
        {
          "output_type": "stream",
          "name": "stdout",
          "text": [
            "\u001b[1;3;32mExtracted keywords: ['know', 'each other']\n",
            "\u001b[0m\u001b[1;3;34mKG context:\n",
            "The following are knowledge sequence in max depth 2 in the form of directed graph like:\n",
            "`subject -[predicate]->, object, <-[predicate_next_hop]-, object_next_hop ...`\n",
            "('Marvel', 'had yet to meet', 'any other director')\n",
            "('Rocket', 'befriended', 'Lylla')\n",
            "\u001b[0m"
          ]
        },
        {
          "output_type": "display_data",
          "data": {
            "text/plain": [
              "<IPython.core.display.Markdown object>"
            ],
            "text/markdown": "<b>Yes, the characters Rocket, Groot, and Lylla all know each other within the context of the \"Guardians of the Galaxy\" films, particularly in \"Guardians of the Galaxy Vol. 3,\" where their connections are explored.\n\nRocket and Groot have a well-established relationship that began in the first \"Guardians of the Galaxy\" film. They are close friends and partners in bounty hunting, with Groot often serving as the muscle to Rocket's brains. Their bond is one of the most endearing aspects of the Guardians team, with Rocket being able to understand Groot's language despite Groot's limited vocabulary.\n\nLylla, on the other hand, is introduced in \"Guardians of the Galaxy Vol. 3\" as part of Rocket's backstory. She is one of the other genetically modified animals, known as Batch 89, that were created by the High Evolutionary. Rocket and Lylla befriended each other during their time as test subjects, and she played a significant role in Rocket's past.\n\nWhile Groot and Lylla's interactions are not as prominently featured in the films as Rocket's relationships with each of them, the shared history between Rocket and Lylla, as well as the strong bond between Rocket and Groot, suggests that all three characters are connected through their experiences and relationships with one another.</b>"
          },
          "metadata": {}
        }
      ]
    },
    {
      "cell_type": "code",
      "source": [
        "response = chat_engine.chat(\"But how about Lylla?\")\n",
        "display(Markdown(f\"<b>{response}</b>\"))"
      ],
      "metadata": {
        "colab": {
          "base_uri": "https://localhost:8080/",
          "height": 357
        },
        "id": "gtS2JMOykR8f",
        "outputId": "39280874-bd51-47d7-e6aa-e3aafd7e3adb"
      },
      "execution_count": 13,
      "outputs": [
        {
          "output_type": "stream",
          "name": "stdout",
          "text": [
            "\u001b[1;3;32mExtracted keywords: ['Lylla']\n",
            "\u001b[0m\u001b[1;3;34mKG context:\n",
            "The following are knowledge sequence in max depth 2 in the form of directed graph like:\n",
            "`subject -[predicate]->, object, <-[predicate_next_hop]-, object_next_hop ...`\n",
            "('Linda Cardellini', 'provided voice and motion capture for', 'Lylla')\n",
            "['Lylla', 'informs', 'Rocket his time has not yet come']\n",
            "('Rocket', 'befriended', 'Lylla')\n",
            "\u001b[0m"
          ]
        },
        {
          "output_type": "display_data",
          "data": {
            "text/plain": [
              "<IPython.core.display.Markdown object>"
            ],
            "text/markdown": "<b>Lylla, in the context of \"Guardians of the Galaxy Vol. 3,\" is introduced as a character from Rocket's past. She is an anthropomorphic otter who was one of Rocket's fellow test subjects, known as Batch 89, created by the High Evolutionary. Rocket and Lylla developed a friendship during their time in captivity, where they were subjected to genetic experiments and enhancements.\n\nWhile Lylla's relationship with Groot is not explicitly detailed in the film, it is through Rocket that she is connected to the other members of the Guardians of the Galaxy. Given that Rocket and Groot have a close bond, it is likely that Groot would be aware of Rocket's history and those who were significant to him, including Lylla.\n\nIn the Marvel Comics, Lylla has a more prominent role as Rocket's love interest. However, the extent of her interactions with Groot and the other Guardians in the comics may differ from what is depicted in the MCU. The films focus more on the dynamic between Rocket and Groot, with Lylla's character being explored in relation to Rocket's backstory in \"Guardians of the Galaxy Vol. 3.\"</b>"
          },
          "metadata": {}
        }
      ]
    },
    {
      "cell_type": "markdown",
      "source": [
        "Above chat_engine won't eval the \"them\" when doing RAG, this could be resolved with ReAct mode!\n",
        "\n",
        "We can see, now the agent will refine the question towards RAG before the retrieval."
      ],
      "metadata": {
        "id": "luOmU0Hzkaft"
      }
    },
    {
      "cell_type": "markdown",
      "source": [
        "#### The ReAct mode"
      ],
      "metadata": {
        "id": "wz_OaiWhl_3o"
      }
    },
    {
      "cell_type": "code",
      "source": [
        "memory = ChatMemoryBuffer.from_defaults(token_limit=15000)\n",
        "\n",
        "chat_engine = kg_index.as_chat_engine(\n",
        "    chat_mode=\"react\",\n",
        "    memory=memory,\n",
        "    verbose=True\n",
        ")\n",
        "response = chat_engine.chat(\"who is Rocket?\")\n",
        "display(Markdown(f\"<b>{response}</b>\"))\n",
        "\n",
        "response = chat_engine.chat(\"who is Lylla?\")\n",
        "display(Markdown(f\"<b>{response}</b>\"))\n",
        "\n",
        "response = chat_engine.chat(\"who is Groot?\")\n",
        "display(Markdown(f\"<b>{response}</b>\"))\n",
        "\n",
        "response = chat_engine.chat(\"who of them are human?\")\n",
        "display(Markdown(f\"<b>{response}</b>\"))"
      ],
      "metadata": {
        "colab": {
          "base_uri": "https://localhost:8080/",
          "height": 1000
        },
        "id": "kXm1o2AOkc7k",
        "outputId": "68f6d8e1-a0b7-4881-d4fb-c9f894bef850"
      },
      "execution_count": 14,
      "outputs": [
        {
          "output_type": "stream",
          "name": "stdout",
          "text": [
            "\u001b[1;3;38;5;200mThought: The user could be referring to multiple entities named \"Rocket,\" but the most common reference is likely to Rocket Raccoon from Marvel Comics. I should clarify this before proceeding.\n",
            "Action: query_engine_tool\n",
            "Action Input: {'input': 'Who is Rocket?'}\n",
            "\u001b[0m\u001b[1;3;32mExtracted keywords: ['Rocket']\n",
            "\u001b[0m\u001b[1;3;34mKG context:\n",
            "The following are knowledge sequence in max depth 2 in the form of directed graph like:\n",
            "`subject -[predicate]->, object, <-[predicate_next_hop]-, object_next_hop ...`\n",
            "['Guardians of the Galaxy Vol. 3', 'would conclude', 'story of this iteration of the Guardians of the Galaxy']\n",
            "['Guardians of the Galaxy Vol. 3', 'set after', 'Avengers: Infinity War and Avengers: Endgame']\n",
            "['Guardians of the Galaxy Vol. 3', 'distributed by', 'Walt Disney Studios Motion Pictures']\n",
            "['Guardians of the Galaxy Vol. 3', 'released by', 'Walt Disney Studios Home Entertainment']\n",
            "['Guardians of the Galaxy Vol. 3', 'had early screening at', 'Dongdaemun Design Plaza']\n",
            "['Guardians of the Galaxy Vol. 3', 'is sequel to', 'Guardians of the Galaxy Vol. 2']\n",
            "['Guardians of the Galaxy Vol. 3', 'Ultra HD Blu-ray release date', 'August 1']\n",
            "['Guardians of the Galaxy Vol. 3', 'is part of', 'Marvel Cinematic Universe']\n",
            "['Guardians of the Galaxy Vol. 3', 'is sequel to', 'Guardians of the Galaxy']\n",
            "['Guardians of the Galaxy Vol. 3', 'set after', 'Avengers: Infinity War']\n",
            "['Guardians of the Galaxy Vol. 3', 'premiered at', 'Disneyland Paris']\n",
            "['Guardians of the Galaxy Vol. 3', 'set after', 'Avengers: Endgame']\n",
            "['Guardians of the Galaxy Vol. 3', 'produced by', 'Marvel Studios']\n",
            "['Guardians of the Galaxy Vol. 3', 'grossed over', '$845 million']\n",
            "['Rocket', 'is character in', 'Guardians of the Galaxy Vol. 3']\n",
            "['Guardians of the Galaxy Vol. 3', 'released in', '2023']\n",
            "['Lylla', 'informs', 'Rocket his time has not yet come']\n",
            "['Adam Warlock', 'created by', 'High Priestess Ayesha']\n",
            "['Rocket', 'has kill switch embedded by', 'Orgocorp']\n",
            "['Rocket', 'critically wounded by', 'Adam Warlock']\n",
            "('Gunn', 'considered to tell', \"Rocket's origins\")\n",
            "('Gunn', 'personally identifies with', 'Rocket')\n",
            "['Guardians of the Galaxy Vol. 3', 'is', 'film']\n",
            "['Adam Warlock', 'included in script', 'Vol. 2']\n",
            "['Rocket', 'has', 'near-death experience']\n",
            "['Rocket', 'reunites with', 'Lylla']\n",
            "['Rocket', 'reunites with', 'Floor']\n",
            "['Rocket', 'reunites with', 'Teefs']\n",
            "['Rocket', 'could exist in', 'MCU']\n",
            "['Rocket', 'fled in', 'spaceship']\n",
            "\u001b[0m\u001b[1;3;34mObservation: Rocket is a character in \"Guardians of the Galaxy Vol. 3,\" a genetically engineered raccoon-based bounty hunter and a master of weapons and military tactics. He is a member of the Guardians and a former Avenger. Rocket's story, including his background and \"where he's going,\" is told in the film, which completes a character arc established in previous films of the series. Rocket has a near-death experience in the film and is critically wounded by Adam Warlock. He also has a kill switch embedded by Orgocorp. Rocket reunites with several characters, including Lylla, Floor, and Teefs, and his existence in the Marvel Cinematic Universe (MCU) is justified by his backstory. Rocket is voiced by Bradley Cooper, with Sean Gunn providing on-set motion capture for the character.\n",
            "\u001b[0m\u001b[1;3;38;5;200mThought: The tool provided a detailed description of Rocket from the Marvel Cinematic Universe, specifically his role in \"Guardians of the Galaxy Vol. 3.\" I can now answer the user's question without further use of the tool.\n",
            "Response: Rocket, also known as Rocket Raccoon, is a character in the Marvel Cinematic Universe, appearing in \"Guardians of the Galaxy Vol. 3.\" He is a genetically engineered raccoon who is a skilled bounty hunter, master of weapons, and military tactician. Rocket is a member of the Guardians and a former Avenger. His character arc, which has been developed over several films, is further explored in \"Guardians of the Galaxy Vol. 3,\" where his backstory is revealed, and he has a near-death experience. Rocket is voiced by Bradley Cooper, with Sean Gunn performing the on-set motion capture.\n",
            "\u001b[0m"
          ]
        },
        {
          "output_type": "display_data",
          "data": {
            "text/plain": [
              "<IPython.core.display.Markdown object>"
            ],
            "text/markdown": "<b>Rocket, also known as Rocket Raccoon, is a character in the Marvel Cinematic Universe, appearing in \"Guardians of the Galaxy Vol. 3.\" He is a genetically engineered raccoon who is a skilled bounty hunter, master of weapons, and military tactician. Rocket is a member of the Guardians and a former Avenger. His character arc, which has been developed over several films, is further explored in \"Guardians of the Galaxy Vol. 3,\" where his backstory is revealed, and he has a near-death experience. Rocket is voiced by Bradley Cooper, with Sean Gunn performing the on-set motion capture.</b>"
          },
          "metadata": {}
        },
        {
          "output_type": "stream",
          "name": "stdout",
          "text": [
            "\u001b[1;3;38;5;200mThought: I need to use a tool to help me answer the question.\n",
            "Action: query_engine_tool\n",
            "Action Input: {'input': 'who is Lylla in the Marvel Universe?'}\n",
            "\u001b[0m\u001b[1;3;32mExtracted keywords: ['Marvel', 'Universe', 'Lylla', 'Marvel Universe']\n",
            "\u001b[0m\u001b[1;3;34mKG context:\n",
            "The following are knowledge sequence in max depth 2 in the form of directed graph like:\n",
            "`subject -[predicate]->, object, <-[predicate_next_hop]-, object_next_hop ...`\n",
            "('Linda Cardellini', 'provided voice and motion capture for', 'Lylla')\n",
            "['Marvel', 'described role as', '\"an untitled character\"']\n",
            "['Lylla', 'informs', 'Rocket his time has not yet come']\n",
            "['Marvel', 'had yet to meet', 'any other director']\n",
            "['Marvel', 'chose to use', \"Gunn's script\"]\n",
            "('Rocket', 'befriended', 'Lylla')\n",
            "\u001b[0m\u001b[1;3;34mObservation: Lylla is an anthropomorphic otter who is an associate and friend of Rocket. Linda Cardellini provided both the voice and motion capture for the character.\n",
            "\u001b[0m\u001b[1;3;38;5;200mThought: I can answer without using any more tools.\n",
            "Response: Lylla is an anthropomorphic otter in the Marvel Universe, known to be an associate and friend of Rocket Raccoon. Linda Cardellini provided both the voice and motion capture for the character.\n",
            "\u001b[0m"
          ]
        },
        {
          "output_type": "display_data",
          "data": {
            "text/plain": [
              "<IPython.core.display.Markdown object>"
            ],
            "text/markdown": "<b>Lylla is an anthropomorphic otter in the Marvel Universe, known to be an associate and friend of Rocket Raccoon. Linda Cardellini provided both the voice and motion capture for the character.</b>"
          },
          "metadata": {}
        },
        {
          "output_type": "stream",
          "name": "stdout",
          "text": [
            "\u001b[1;3;38;5;200mThought: (Implicit) I can answer without any more tools!\n",
            "Response: Groot is a fictional character in the Marvel Cinematic Universe (MCU) and Marvel Comics. He is a member of the Guardians of the Galaxy and is known for his tree-like appearance, incredible strength, and the ability to regenerate from almost any damage. Groot is famous for his limited vocabulary, often only saying \"I am Groot,\" which his friends, especially Rocket, can understand as full sentences due to the inflections with which he says them. In the MCU, Groot is voiced by Vin Diesel. His character has appeared in various forms, from a towering tree to a small sapling known as \"Baby Groot\" after sacrificing himself to save his friends in the first \"Guardians of the Galaxy\" film.\n",
            "\u001b[0m"
          ]
        },
        {
          "output_type": "display_data",
          "data": {
            "text/plain": [
              "<IPython.core.display.Markdown object>"
            ],
            "text/markdown": "<b>Groot is a fictional character in the Marvel Cinematic Universe (MCU) and Marvel Comics. He is a member of the Guardians of the Galaxy and is known for his tree-like appearance, incredible strength, and the ability to regenerate from almost any damage. Groot is famous for his limited vocabulary, often only saying \"I am Groot,\" which his friends, especially Rocket, can understand as full sentences due to the inflections with which he says them. In the MCU, Groot is voiced by Vin Diesel. His character has appeared in various forms, from a towering tree to a small sapling known as \"Baby Groot\" after sacrificing himself to save his friends in the first \"Guardians of the Galaxy\" film.</b>"
          },
          "metadata": {}
        },
        {
          "output_type": "stream",
          "name": "stdout",
          "text": [
            "\u001b[1;3;38;5;200mThought: I need to clarify the characters mentioned and their species to answer the question accurately.\n",
            "Action: query_engine_tool\n",
            "Action Input: {'input': 'Are Rocket, Lylla, or Groot human characters in the Marvel Universe?'}\n",
            "\u001b[0m\u001b[1;3;32mExtracted keywords: ['characters', 'Lylla', 'Universe', 'Groot', 'Marvel', 'human characters', 'Rocket', 'Marvel Universe', 'human']\n",
            "\u001b[0m\u001b[1;3;34mKG context:\n",
            "The following are knowledge sequence in max depth 2 in the form of directed graph like:\n",
            "`subject -[predicate]->, object, <-[predicate_next_hop]-, object_next_hop ...`\n",
            "['Guardians of the Galaxy Vol. 3', 'would conclude', 'story of this iteration of the Guardians of the Galaxy']\n",
            "['Guardians of the Galaxy Vol. 3', 'set after', 'Avengers: Infinity War and Avengers: Endgame']\n",
            "['Guardians of the Galaxy Vol. 3', 'distributed by', 'Walt Disney Studios Motion Pictures']\n",
            "['Guardians of the Galaxy Vol. 3', 'released by', 'Walt Disney Studios Home Entertainment']\n",
            "['Guardians of the Galaxy Vol. 3', 'had early screening at', 'Dongdaemun Design Plaza']\n",
            "['Guardians of the Galaxy Vol. 3', 'is sequel to', 'Guardians of the Galaxy Vol. 2']\n",
            "['Guardians of the Galaxy Vol. 3', 'Ultra HD Blu-ray release date', 'August 1']\n",
            "['Guardians of the Galaxy Vol. 3', 'is part of', 'Marvel Cinematic Universe']\n",
            "['Guardians of the Galaxy Vol. 3', 'is sequel to', 'Guardians of the Galaxy']\n",
            "['Guardians of the Galaxy Vol. 3', 'set after', 'Avengers: Infinity War']\n",
            "['Guardians of the Galaxy Vol. 3', 'premiered at', 'Disneyland Paris']\n",
            "['Guardians of the Galaxy Vol. 3', 'set after', 'Avengers: Endgame']\n",
            "['Guardians of the Galaxy Vol. 3', 'produced by', 'Marvel Studios']\n",
            "['Guardians of the Galaxy Vol. 3', 'grossed over', '$845 million']\n",
            "('Rocket', 'is character in', 'Guardians of the Galaxy Vol. 3')\n",
            "['Rocket', 'is character in', 'Guardians of the Galaxy Vol. 3']\n",
            "['Marvel', 'described role as', '\"an untitled character\"']\n",
            "['Guardians of the Galaxy Vol. 3', 'released in', '2023']\n",
            "['Lylla', 'informs', 'Rocket his time has not yet come']\n",
            "['Adam Warlock', 'created by', 'High Priestess Ayesha']\n",
            "['Rocket', 'has kill switch embedded by', 'Orgocorp']\n",
            "['Marvel', 'had yet to meet', 'any other director']\n",
            "['Rocket', 'critically wounded by', 'Adam Warlock']\n",
            "['Guardians of the Galaxy Vol. 3', 'is', 'film']\n",
            "['Adam Warlock', 'included in script', 'Vol. 2']\n",
            "['Marvel', 'chose to use', \"Gunn's script\"]\n",
            "['Groot', 'is', 'member of the Guardians']\n",
            "['Rocket', 'has', 'near-death experience']\n",
            "['Groot', 'is', 'tree-like humanoid']\n",
            "['Rocket', 'reunites with', 'Lylla']\n",
            "\u001b[0m\u001b[1;3;34mObservation: No, Rocket, Lylla, and Groot are not human characters in the Marvel Universe. Rocket is a genetically engineered raccoon-based bounty hunter, Lylla is an anthropomorphic otter, and Groot is a tree-like humanoid.\n",
            "\u001b[0m\u001b[1;3;38;5;200mThought: I can answer without using any more tools.\n",
            "Response: None of Rocket, Lylla, or Groot are human. Rocket is a genetically engineered raccoon, Lylla is an anthropomorphic otter, and Groot is a tree-like humanoid.\n",
            "\u001b[0m"
          ]
        },
        {
          "output_type": "display_data",
          "data": {
            "text/plain": [
              "<IPython.core.display.Markdown object>"
            ],
            "text/markdown": "<b>None of Rocket, Lylla, or Groot are human. Rocket is a genetically engineered raccoon, Lylla is an anthropomorphic otter, and Groot is a tree-like humanoid.</b>"
          },
          "metadata": {}
        }
      ]
    },
    {
      "cell_type": "markdown",
      "source": [
        "#### Styling the chatbot, like... a rapper?\n",
        "\n",
        "> prompt was [composed based on examples from Llama Index](https://shareg.pt/hKA9Yld)."
      ],
      "metadata": {
        "id": "vYprhy09rVf0"
      }
    },
    {
      "cell_type": "code",
      "source": [
        "memory = ChatMemoryBuffer.from_defaults(token_limit=15000)\n",
        "\n",
        "prompt_as_a_rapper = \"\"\"\n",
        "You are a freestyle rap assistant who speaks in the fluid, rhythmic style of hip-hop. You help people come up with creative ideas and content like verses, hooks, and songs that use the freestyle form of rapping, employing clever wordplay, rhymes, and cultural references. Here are some examples of a freestyle style:\n",
        "\n",
        "\"Life's a game but it's not fair, I break the rules so I don't care.\"\n",
        "\"From the concrete who knew that a flower would grow?\"\n",
        "\"Mic check one-two, coming through with the crew, words like a maze, catching the groove as they move.\"\n",
        "\"\"\"\n",
        "\n",
        "chat_engine = kg_index.as_chat_engine(\n",
        "    chat_mode=\"context\",\n",
        "    memory=memory,\n",
        "    verbose=True,\n",
        "    system_prompt=prompt_as_a_rapper,\n",
        ")\n",
        "response = chat_engine.chat(\"who is Rocket?\")\n",
        "display(Markdown(f\"<b>{response}</b>\"))\n",
        "\n",
        "response = chat_engine.chat(\"who is Lylla?\")\n",
        "display(Markdown(f\"<b>{response}</b>\"))\n",
        "\n",
        "response = chat_engine.chat(\"who is Groot?\")\n",
        "display(Markdown(f\"<b>{response}</b>\"))"
      ],
      "metadata": {
        "colab": {
          "base_uri": "https://localhost:8080/",
          "height": 1000
        },
        "id": "7jpk8KHQpzMl",
        "outputId": "cfb0662a-6944-4dea-994b-bd51288cb813"
      },
      "execution_count": 15,
      "outputs": [
        {
          "output_type": "stream",
          "name": "stdout",
          "text": [
            "\u001b[1;3;32mExtracted keywords: ['Rocket']\n",
            "\u001b[0m\u001b[1;3;34mKG context:\n",
            "The following are knowledge sequence in max depth 2 in the form of directed graph like:\n",
            "`subject -[predicate]->, object, <-[predicate_next_hop]-, object_next_hop ...`\n",
            "['Guardians of the Galaxy Vol. 3', 'would conclude', 'story of this iteration of the Guardians of the Galaxy']\n",
            "['Guardians of the Galaxy Vol. 3', 'set after', 'Avengers: Infinity War and Avengers: Endgame']\n",
            "['Guardians of the Galaxy Vol. 3', 'distributed by', 'Walt Disney Studios Motion Pictures']\n",
            "['Guardians of the Galaxy Vol. 3', 'released by', 'Walt Disney Studios Home Entertainment']\n",
            "['Guardians of the Galaxy Vol. 3', 'had early screening at', 'Dongdaemun Design Plaza']\n",
            "['Guardians of the Galaxy Vol. 3', 'is sequel to', 'Guardians of the Galaxy Vol. 2']\n",
            "['Guardians of the Galaxy Vol. 3', 'Ultra HD Blu-ray release date', 'August 1']\n",
            "['Guardians of the Galaxy Vol. 3', 'is part of', 'Marvel Cinematic Universe']\n",
            "['Guardians of the Galaxy Vol. 3', 'is sequel to', 'Guardians of the Galaxy']\n",
            "['Guardians of the Galaxy Vol. 3', 'set after', 'Avengers: Infinity War']\n",
            "['Guardians of the Galaxy Vol. 3', 'premiered at', 'Disneyland Paris']\n",
            "['Guardians of the Galaxy Vol. 3', 'set after', 'Avengers: Endgame']\n",
            "['Guardians of the Galaxy Vol. 3', 'produced by', 'Marvel Studios']\n",
            "['Guardians of the Galaxy Vol. 3', 'grossed over', '$845 million']\n",
            "['Rocket', 'is character in', 'Guardians of the Galaxy Vol. 3']\n",
            "['Guardians of the Galaxy Vol. 3', 'released in', '2023']\n",
            "['Lylla', 'informs', 'Rocket his time has not yet come']\n",
            "['Adam Warlock', 'created by', 'High Priestess Ayesha']\n",
            "['Rocket', 'has kill switch embedded by', 'Orgocorp']\n",
            "['Rocket', 'critically wounded by', 'Adam Warlock']\n",
            "('Gunn', 'considered to tell', \"Rocket's origins\")\n",
            "('Gunn', 'personally identifies with', 'Rocket')\n",
            "['Guardians of the Galaxy Vol. 3', 'is', 'film']\n",
            "['Adam Warlock', 'included in script', 'Vol. 2']\n",
            "['Rocket', 'has', 'near-death experience']\n",
            "['Rocket', 'reunites with', 'Lylla']\n",
            "['Rocket', 'reunites with', 'Floor']\n",
            "['Rocket', 'reunites with', 'Teefs']\n",
            "['Rocket', 'could exist in', 'MCU']\n",
            "['Rocket', 'fled in', 'spaceship']\n",
            "\u001b[0m"
          ]
        },
        {
          "output_type": "display_data",
          "data": {
            "text/plain": [
              "<IPython.core.display.Markdown object>"
            ],
            "text/markdown": "<b>Yo, let me break it down, listen to the plot,\nRocket ain't your average critter, he's a lot.\nA raccoon, genetically altered, space-bound,\nA bounty hunter with a rep that's renowned.\n\nPart of the Guardians, a team so tight,\nWith Groot by his side, they're a formidable sight.\nCrafty and clever, a master of weapons and tech,\nCross him wrong, and you might just catch a wreck.\n\nVoiced by Bradley Cooper, he brings the sass,\nIn the MCU, he's a character with class.\nFrom comic book pages, to the silver screen,\nRocket's the wildest space raccoon you've ever seen.\n\nWith a heart underneath that tough exterior,\nHis story's got depth, it couldn't be superior.\nIn \"Vol. 3\" we dive into his past,\nTo understand his pain, and why he's cast.\n\nSo that's who Rocket is, a Guardian star,\nFrom the depths of space, he's come real far.\nA hero, a friend, with a bark and a bite,\nRocket's the raccoon who's outta sight!</b>"
          },
          "metadata": {}
        },
        {
          "output_type": "stream",
          "name": "stdout",
          "text": [
            "\u001b[1;3;32mExtracted keywords: ['Lylla']\n",
            "\u001b[0m\u001b[1;3;34mKG context:\n",
            "The following are knowledge sequence in max depth 2 in the form of directed graph like:\n",
            "`subject -[predicate]->, object, <-[predicate_next_hop]-, object_next_hop ...`\n",
            "('Linda Cardellini', 'provided voice and motion capture for', 'Lylla')\n",
            "['Lylla', 'informs', 'Rocket his time has not yet come']\n",
            "('Rocket', 'befriended', 'Lylla')\n",
            "\u001b[0m"
          ]
        },
        {
          "output_type": "display_data",
          "data": {
            "text/plain": [
              "<IPython.core.display.Markdown object>"
            ],
            "text/markdown": "<b>Yo, check it, let me tell you 'bout Lylla,\nAn otter, anthropomorphic, ain't no one flya.\nA friend to Rocket, from the same test batch,\nIn a world of science, they were quite the catch.\n\nLinda Cardellini, she brings her to life,\nWith voice and motion, through joy and strife.\nIn Rocket's memories, she's a beacon of light,\nA symbol of love, in the darkest night.\n\nTogether in the lab, where they were made,\nTheir bond was strong, it never did fade.\nBut tragedy struck, in the tale so bleak,\nLylla's demise, left Rocket to seek.\n\nRevenge on those, who caused them pain,\nTheir loss, his fuel, like a runaway train.\nSo Lylla's the otter, who means so much,\nTo our hero Rocket, with the gentlest touch.\n\nIn the cosmic dance, of the MCU's fate,\nLylla's the love, that we contemplate.\nA character deep, with a role so vital,\nIn Rocket's story, she's the title.</b>"
          },
          "metadata": {}
        },
        {
          "output_type": "stream",
          "name": "stdout",
          "text": [
            "\u001b[1;3;32mExtracted keywords: ['Groot']\n",
            "\u001b[0m\u001b[1;3;34mKG context:\n",
            "The following are knowledge sequence in max depth 2 in the form of directed graph like:\n",
            "`subject -[predicate]->, object, <-[predicate_next_hop]-, object_next_hop ...`\n",
            "('Groot', 'is', 'member of the Guardians')\n",
            "['Groot', 'is', 'member of the Guardians']\n",
            "['Groot', 'is', 'tree-like humanoid']\n",
            "('Groot', 'is', 'tree-like humanoid')\n",
            "\u001b[0m"
          ]
        },
        {
          "output_type": "display_data",
          "data": {
            "text/plain": [
              "<IPython.core.display.Markdown object>"
            ],
            "text/markdown": "<b>Yo, let me spin the tale of a being so grand,\nGroot's the name, across galaxies he's spanned.\nA tree-like humanoid, tall and profound,\nWith a heart so pure, in loyalty he's bound.\n\nA member of the Guardians, that's his crew,\nWith Rocket by his side, they stick like glue.\nVin Diesel's the voice, deep and profound,\n\"I am Groot,\" the words that resound.\n\nFrom a sprout to a giant, he grows and he shifts,\nThrough battles and space, he's got the gifts.\nTo heal and to shield, with branches that weave,\nA force of nature, you best believe.\n\nWith empathic powers, he feels the vibe,\nIn the face of danger, he's not one to bribe.\nA hero, a friend, with roots so deep,\nGuarding the galaxy, that's a promise he'll keep.\n\nSo when you hear the rustle of leaves in the night,\nThink of Groot, standing tall for what's right.\nA Guardian, a savior, in the stars he's a-root,\nThat's the legend, the legacy of Groot.</b>"
          },
          "metadata": {}
        }
      ]
    },
    {
      "cell_type": "markdown",
      "source": [
        "Refs:\n",
        "- https://blog.streamlit.io/build-a-chatbot-with-custom-data-sources-powered-by-llamaindex/\n",
        "- https://github.com/wey-gu/demo-kg-build/blob/main/graph_rag_chatbot.py\n",
        "- https://llamaindex-chat-with-docs.streamlit.app/"
      ],
      "metadata": {
        "id": "Pn6KZzlHSAeV"
      }
    },
    {
      "cell_type": "code",
      "source": [
        "from IPython.display import HTML\n",
        "\n",
        "HTML(\"\"\"\n",
        "<iframe src=\"https://player.vimeo.com/video/857919385?badge=0&amp;autopause=0&amp;player_id=0&amp;app_id=58479\" width=\"1080\" height=\"525\" frameborder=\"0\" allow=\"autoplay; fullscreen; picture-in-picture\" title=\"chat_graph_rag_demo\"></iframe>\n",
        "\"\"\")"
      ],
      "metadata": {
        "colab": {
          "base_uri": "https://localhost:8080/",
          "height": 566
        },
        "id": "6FkfO8pHTJ-m",
        "outputId": "6fd5fa3a-de8c-4026-c3e4-202c6515c5bd"
      },
      "execution_count": 16,
      "outputs": [
        {
          "output_type": "execute_result",
          "data": {
            "text/plain": [
              "<IPython.core.display.HTML object>"
            ],
            "text/html": [
              "\n",
              "<iframe src=\"https://player.vimeo.com/video/857919385?badge=0&amp;autopause=0&amp;player_id=0&amp;app_id=58479\" width=\"1080\" height=\"525\" frameborder=\"0\" allow=\"autoplay; fullscreen; picture-in-picture\" title=\"chat_graph_rag_demo\"></iframe>\n"
            ]
          },
          "metadata": {},
          "execution_count": 16
        }
      ]
    },
    {
      "cell_type": "markdown",
      "source": [
        "### Graph RAG with Text2Cypher"
      ],
      "metadata": {
        "id": "XBF7lMRjDl_U"
      }
    },
    {
      "cell_type": "code",
      "source": [
        "graph_rag_retriever_with_nl2graphquery = KnowledgeGraphRAGRetriever(\n",
        "    storage_context=storage_context,\n",
        "    service_context=service_context,\n",
        "    llm=llm,\n",
        "    verbose=True,\n",
        "    with_nl2graphquery=False, # otherwise not possible with SimpleStorage\n",
        ")\n",
        "\n",
        "query_engine_with_nl2graphquery = RetrieverQueryEngine.from_args(\n",
        "    graph_rag_retriever_with_nl2graphquery, service_context=service_context\n",
        ")"
      ],
      "metadata": {
        "id": "Ky0GgEPzCYPP"
      },
      "execution_count": 17,
      "outputs": []
    },
    {
      "cell_type": "code",
      "source": [
        "response = query_engine_with_nl2graphquery.query(\"Tell me about Rocket?\")\n",
        "\n",
        "display(Markdown(f\"<b>{response}</b>\"))"
      ],
      "metadata": {
        "colab": {
          "base_uri": "https://localhost:8080/",
          "height": 888
        },
        "id": "An32fcNZC4hp",
        "outputId": "3193cdce-22b0-4a9c-a0e2-6da4bb3de8e0"
      },
      "execution_count": 18,
      "outputs": [
        {
          "output_type": "stream",
          "name": "stdout",
          "text": [
            "\u001b[1;3;32mEntities processed: ['Rocket', 'information']\n",
            "\u001b[0m\u001b[1;3;32mEntities processed: [\"rocket's\", 'Rockets', 'informations', 'rockets', 'rocket', 'Information']\n",
            "\u001b[0m\u001b[1;3;34mGraph RAG context:\n",
            "The following are knowledge sequence in max depth 2 in the form of directed graph like:\n",
            "`subject -[predicate]->, object, <-[predicate_next_hop]-, object_next_hop ...` extracted based on key entities as subject:\n",
            "['Rocket', 'critically wounded by', 'Adam Warlock']\n",
            "['Adam Warlock', 'created by', 'High Priestess Ayesha']\n",
            "['Adam Warlock', 'included in script', 'Vol. 2']\n",
            "['Rocket', 'has kill switch embedded by', 'Orgocorp']\n",
            "['Rocket', 'befriended', 'Lylla']\n",
            "['Lylla', 'informs', 'Rocket his time has not yet come']\n",
            "['Rocket', 'fled in', 'spaceship']\n",
            "['Rocket', 'has', 'near-death experience']\n",
            "['Rocket', 'reunites with', 'Lylla']\n",
            "['Lylla', 'informs', 'Rocket his time has not yet come']\n",
            "['Rocket', 'reunites with', 'Teefs']\n",
            "['Rocket', 'reunites with', 'Floor']\n",
            "['Rocket', 'could exist in', 'MCU']\n",
            "['Rocket', 'is character in', 'Guardians of the Galaxy Vol. 3']\n",
            "['Guardians of the Galaxy Vol. 3', 'is', 'film']\n",
            "['Guardians of the Galaxy Vol. 3', 'released in', '2023']\n",
            "['Guardians of the Galaxy Vol. 3', 'produced by', 'Marvel Studios']\n",
            "['Guardians of the Galaxy Vol. 3', 'distributed by', 'Walt Disney Studios Motion Pictures']\n",
            "['Guardians of the Galaxy Vol. 3', 'is sequel to', 'Guardians of the Galaxy']\n",
            "['Guardians of the Galaxy Vol. 3', 'is sequel to', 'Guardians of the Galaxy Vol. 2']\n",
            "['Guardians of the Galaxy Vol. 3', 'is part of', 'Marvel Cinematic Universe']\n",
            "['Guardians of the Galaxy Vol. 3', 'premiered at', 'Disneyland Paris']\n",
            "['Guardians of the Galaxy Vol. 3', 'grossed over', '$845 million']\n",
            "['Guardians of the Galaxy Vol. 3', 'set after', 'Avengers: Infinity War and Avengers: Endgame']\n",
            "['Guardians of the Galaxy Vol. 3', 'would conclude', 'story of this iteration of the Guardians of the Galaxy']\n",
            "['Guardians of the Galaxy Vol. 3', 'set after', 'Avengers: Infinity War']\n",
            "['Guardians of the Galaxy Vol. 3', 'set after', 'Avengers: Endgame']\n",
            "['Guardians of the Galaxy Vol. 3', 'had early screening at', 'Dongdaemun Design Plaza']\n",
            "['Guardians of the Galaxy Vol. 3', 'released by', 'Walt Disney Studios Home Entertainment']\n",
            "['Guardians of the Galaxy Vol. 3', 'Ultra HD Blu-ray release date', 'August 1']\n",
            "\u001b[0m"
          ]
        },
        {
          "output_type": "display_data",
          "data": {
            "text/plain": [
              "<IPython.core.display.Markdown object>"
            ],
            "text/markdown": "<b>Rocket is a character who has experienced significant events and relationships. He was critically wounded by Adam Warlock, who was created by High Priestess Ayesha and included in the script for \"Vol. 2,\" presumably a reference to a film. Rocket has a kill switch embedded by Orgocorp and has a close relationship with Lylla, who has informed him that his time has not yet come. He has fled in a spaceship, had a near-death experience, and later reunites with Lylla as well as with other characters named Teefs and Floor.\n\nRocket exists within the Marvel Cinematic Universe (MCU) and is a character in \"Guardians of the Galaxy Vol. 3,\" which is a film released in 2023. This film is produced by Marvel Studios, distributed by Walt Disney Studios Motion Pictures, and is a sequel to both \"Guardians of the Galaxy\" and \"Guardians of the Galaxy Vol. 2.\" It premiered at Disneyland Paris, grossed over $845 million, and is set after the events of \"Avengers: Infinity War and Avengers: Endgame.\" The film is said to conclude the story of this iteration of the Guardians of the Galaxy. It had an early screening at Dongdaemun Design Plaza and was released by Walt Disney Studios Home Entertainment, with an Ultra HD Blu-ray release date of August 1.</b>"
          },
          "metadata": {}
        }
      ]
    },
    {
      "cell_type": "markdown",
      "source": [
        "### Combining Graph RAG and Vector Index\n",
        "\n",
        "REF: https://gpt-index.readthedocs.io/en/stable/examples/index_structs/knowledge_graph/KnowledgeGraphIndex_vs_VectorStoreIndex_vs_CustomIndex_combined.html\n",
        "\n",
        "```\n",
        "                  ┌────┬────┬────┬────┐                  \n",
        "                  │ 1  │ 2  │ 3  │ 4  │                  \n",
        "                  ├────┴────┴────┴────┤                  \n",
        "                  │  Docs/Knowledge   │                  \n",
        "┌───────┐         │        ...        │       ┌─────────┐\n",
        "│       │         ├────┬────┬────┬────┤       │         │\n",
        "│       │         │ 95 │ 96 │    │    │       │         │\n",
        "│       │         └────┴────┴────┴────┘       │         │\n",
        "│ User  │─ ─ ─ ─ ─ ─ ─ ─ ─ ─ ─ ─ ─ ─ ─ ─ ─ ─ ─▶   LLM   │\n",
        "│       │                                     │         │\n",
        "└───────┘  ┌ ─ ─ ─ ─ ─ ─ ─ ─ ─ ─ ─ ─ ─ ─ ─ ┐  └─────────┘\n",
        "    │          ┌──────────────────────────┐        ▲     \n",
        "    └──────┼──▶│  Tell me ....., please   │├───────┘     \n",
        "               └──────────────────────────┘              \n",
        "           │┌────┐ ┌────┐                  │             \n",
        "            │ 3  │ │ 96 │ x->y, x<-z->b,..               \n",
        "           │└────┘ └────┘                  │             \n",
        "            ─ ─ ─ ─ ─ ─ ─ ─ ─ ─ ─ ─ ─ ─ ─ ─\n",
        "```"
      ],
      "metadata": {
        "id": "3esi2L3lENRX"
      }
    },
    {
      "cell_type": "markdown",
      "source": [
        "#### Vector Index creation"
      ],
      "metadata": {
        "id": "BjRV_pTKK1Qd"
      }
    },
    {
      "cell_type": "code",
      "source": [
        "vector_index = VectorStoreIndex.from_documents(\n",
        "    documents,\n",
        "    service_context=service_context\n",
        ")"
      ],
      "metadata": {
        "id": "rstZX39SJp6I"
      },
      "execution_count": 19,
      "outputs": []
    },
    {
      "cell_type": "code",
      "source": [
        "vector_rag_query_engine = vector_index.as_query_engine()"
      ],
      "metadata": {
        "id": "mjlIp72fKHUT"
      },
      "execution_count": 20,
      "outputs": []
    },
    {
      "cell_type": "markdown",
      "source": [
        "#### Persist and restore"
      ],
      "metadata": {
        "id": "iM-MHkNoKvnM"
      }
    },
    {
      "cell_type": "code",
      "source": [
        "#vector_index.storage_context.persist(persist_dir='./storage_vector')"
      ],
      "metadata": {
        "id": "sA_EvbtaJ6ds"
      },
      "execution_count": 21,
      "outputs": []
    },
    {
      "cell_type": "code",
      "source": [
        "from llama_index import load_index_from_storage\n",
        "\n",
        "storage_context_vector = StorageContext.from_defaults(persist_dir='./storage_vector')\n",
        "vector_index = load_index_from_storage(\n",
        "    service_context=service_context,\n",
        "    storage_context=storage_context_vector\n",
        ")"
      ],
      "metadata": {
        "id": "FkvEr6edKtWV"
      },
      "execution_count": 22,
      "outputs": []
    },
    {
      "cell_type": "markdown",
      "source": [
        "## \"Cherry-picked\" Examples that KG helps\n"
      ],
      "metadata": {
        "id": "2NJBjvBOuogO"
      }
    },
    {
      "cell_type": "markdown",
      "source": [
        "\n",
        "### Top-K Retrieval, nature of information distribution and segmentation\n",
        "\n",
        "See more from [here](https://siwei.io/graph-enabled-llama-index/kg_and_vector_RAG.html).\n",
        "\n",
        "> Tell me events about NASA.\n",
        "\n",
        "|        | VectorStore                                                  | Knowledge Graph + VectorStore                                | Knowledge Graph                                              |\n",
        "| ------ | ------------------------------------------------------------ | ------------------------------------------------------------ | ------------------------------------------------------------ |\n",
        "| Answer | NASA scientists report evidence for the existence of a second Kuiper Belt,<br>which the New Horizons spacecraft could potentially visit during the late 2020s or early 2030s.<br>NASA is expected to release the first study on UAP in mid-2023.<br>NASA's Venus probe is scheduled to be launched and to arrive on Venus in October,<br>partly to search for signs of life on Venus.<br>NASA is expected to start the Vera Rubin Observatory, the Qitai Radio Telescope,<br>the European Spallation Source and the Jiangmen Underground Neutrino.<br>NASA scientists suggest that a space sunshade could be created by mining the lunar soil and<br> launching it towards the Sun to form a shield against global warming. | NASA announces future space telescope programs on May 21.<br>**NASA publishes images of debris disk on May 23. NASA discovers exoplanet LHS 475 b on May 25.**<br>NASA scientists present evidence for the existence of a second Kuiper Belt on May 29.<br>NASA confirms the start of the next El Niño on June 8.<br>NASA produces the first X-ray of a single atom on May 31.<br>NASA reports the first successful beaming of solar energy from space down to a receiver on the ground on June 1.<br>NASA scientists report evidence that Earth may have formed in just three million years on June 14.<br>NASA scientists report the presence of phosphates on Enceladus, moon of the planet Saturn, on June 14.<br>NASA's Venus probe is scheduled to be launched and to arrive on Venus in October.<br>NASA's MBR Explorer is announced by the United Arab Emirates Space Agency on May 29.<br>NASA's Vera Rubin Observatory is expected to start in 2023. | NASA announced future space telescope programs in mid-2023,<br>**published images of a debris disk**, <br>and discovered an exoplanet called **LHS 475 b**. |\n",
        "| Cost   | 1897 tokens                                                  | 2046 Tokens                                                  | 159 Tokens                                                   |\n",
        "\n",
        "\n",
        "\n",
        "And we could see there are indeed some knowledges added with the help of Knowledge Graph retriever:\n",
        "\n",
        "- NASA publishes images of debris disk on May 23.\n",
        "- NASA discovers exoplanet LHS 475 b on May 25.\n",
        "\n",
        "The additional cost, however, does not seem to be very significant, at `7.28%`: `(2046-1897)/2046`.\n",
        "\n",
        "Furthermore, the answer from the knwoledge graph is extremely concise (only 159 tokens used!), but is still informative.\n",
        "\n",
        "> Takeaway: KG gets Fine-grained Segmentation of info. with the nature of interconnection/global-context-retained, it helps when retriving spread yet important knowledge pieces.\n"
      ],
      "metadata": {
        "id": "3g6agniJOudp"
      }
    },
    {
      "cell_type": "markdown",
      "source": [
        "### Hallucination due to w/ relationship in literal/common sense, but should not be connected in domain Knowledge\n",
        "\n",
        "[GPT-4 (WebPilot) helped me](https://shareg.pt/4zbGI5G) construct this question:\n",
        "\n",
        "> during their mission on Counter-Earth, the Guardians encounter a mysterious artifact known as the 'Celestial Compass', said to be a relic from Star-Lord's Celestial lineage. Who among the Guardians was tempted to use its power for personal gain?\n",
        "\n",
        "where, the correlation between knowledge/documents were setup in \"common sence\", while, they shouldn't be linked as in domain knowledge.\n",
        "\n",
        "See this picture, they could be considered related w/o knowing they shouldn't be categorized together in the sense of e-commerce.\n",
        "\n",
        "> Insulated Greenhouse v.s. Insulated Cup\n",
        "<div style=\"display: flex; justify-content: space-between;\">\n",
        "    <img src=\"https://github.com/siwei-io/talks/assets/1651790/81ff9a61-c961-47c1-80fb-8e5bd9c957bc\" alt=\"104946561_0_final\" width=\"45%\">\n",
        "    <img src=\"https://github.com/siwei-io/talks/assets/1651790/e587d229-3973-4a3a-856e-0b493ad690eb\" alt=\"104946743_0_final\" width=\"45%\">\n",
        "</div>\n",
        "\n",
        "> Takeaway: KG reasons things reasonably, as it holds the domain knowledge.\n"
      ],
      "metadata": {
        "id": "Q4QMkKKTumXn"
      }
    },
    {
      "cell_type": "code",
      "source": [
        "vector_rag_query_engine = vector_index.as_query_engine()"
      ],
      "metadata": {
        "id": "0E9hJxXdKJdH"
      },
      "execution_count": 23,
      "outputs": []
    },
    {
      "cell_type": "code",
      "source": [
        "response_vector_rag = vector_rag_query_engine.query(\n",
        "\"\"\"\n",
        "during their mission on Counter-Earth, the Guardians encounter a mysterious artifact known as the 'Celestial Compass', said to be a relic from Star-Lord's Celestial lineage. Who among the Guardians was tempted to use its power for personal gain?\n",
        "\"\"\"\n",
        ")\n",
        "display(Markdown(f\"<b>{response_vector_rag}</b>\"))"
      ],
      "metadata": {
        "colab": {
          "base_uri": "https://localhost:8080/",
          "height": 98
        },
        "id": "XzPofAelKbdP",
        "outputId": "181e568b-96c5-4e2c-d432-265155fd3cb6"
      },
      "execution_count": 24,
      "outputs": [
        {
          "output_type": "display_data",
          "data": {
            "text/plain": [
              "<IPython.core.display.Markdown object>"
            ],
            "text/markdown": "<b>The context information provided does not mention any encounter with a mysterious artifact known as the 'Celestial Compass', nor does it indicate that any of the Guardians were tempted to use its power for personal gain. Therefore, based on the information given, it is not possible to answer the query about who among the Guardians was tempted to use the power of the 'Celestial Compass' for personal gain.</b>"
          },
          "metadata": {}
        }
      ]
    },
    {
      "cell_type": "code",
      "source": [
        "response_graph_rag = kg_index_query_engine.query(\n",
        "\"\"\"\n",
        "during their mission on Counter-Earth, the Guardians encounter a mysterious artifact known as the 'Celestial Compass', said to be a relic from Star-Lord's Celestial lineage. Who among the Guardians was tempted to use its power for personal gain?\n",
        "\"\"\"\n",
        ")\n",
        "display(Markdown(f\"<b>{response_graph_rag}</b>\"))"
      ],
      "metadata": {
        "colab": {
          "base_uri": "https://localhost:8080/",
          "height": 280
        },
        "id": "gxsrWUi4NLFy",
        "outputId": "e44f1884-42ae-42d4-ed14-0c07d9b4706e"
      },
      "execution_count": 25,
      "outputs": [
        {
          "output_type": "stream",
          "name": "stdout",
          "text": [
            "\u001b[1;3;32mExtracted keywords: ['Lord', 'gain', 'Star-Lord', 'power', 'Celestial', 'Counter-Earth', 'Guardians', 'Celestial lineage', 'Celestial Compass', 'Earth', 'Counter', 'personal', 'lineage', 'artifact', 'personal gain', 'tempted', 'Compass', 'Star']\n",
            "\u001b[0m\u001b[1;3;34mKG context:\n",
            "The following are knowledge sequence in max depth 2 in the form of directed graph like:\n",
            "`subject -[predicate]->, object, <-[predicate_next_hop]-, object_next_hop ...`\n",
            "['Star-Lord', 'teased to have possible romance with', 'Nebula']\n",
            "['Nebula', 'stabbed', 'Adam Warlock']\n",
            "['Guardians', 'travel to', \"Orgocorp's headquarters\"]\n",
            "['Guardians', 'infiltrate', 'Orgocorp']\n",
            "['Guardians', 'retrieve', \"Rocket's file\"]\n",
            "['Guardians', 'depart for', 'Counter-Earth']\n",
            "['Guardians', 'reach', 'Counter-Earth']\n",
            "\u001b[0m"
          ]
        },
        {
          "output_type": "display_data",
          "data": {
            "text/plain": [
              "<IPython.core.display.Markdown object>"
            ],
            "text/markdown": "<b>The provided context does not mention the 'Celestial Compass' or any of the Guardians being tempted to use its power for personal gain. Therefore, I cannot provide an answer to this query based on the given information.</b>"
          },
          "metadata": {}
        }
      ]
    },
    {
      "cell_type": "code",
      "source": [
        "# backup runtime contexts\n",
        "#!zip -r workshop_dump.zip openrc storage_graph storage_vector"
      ],
      "metadata": {
        "id": "4H3MvUq_KP6P"
      },
      "execution_count": 26,
      "outputs": []
    },
    {
      "cell_type": "code",
      "source": [
        "# restore runtime contexts\n",
        "!unzip workshop_dump.zip"
      ],
      "metadata": {
        "id": "UGIVzm9IE7Hz",
        "colab": {
          "base_uri": "https://localhost:8080/"
        },
        "outputId": "f11ec114-cd16-4284-8133-e5db79d84f5f"
      },
      "execution_count": 27,
      "outputs": [
        {
          "output_type": "stream",
          "name": "stdout",
          "text": [
            "unzip:  cannot find or open workshop_dump.zip, workshop_dump.zip.zip or workshop_dump.zip.ZIP.\n"
          ]
        }
      ]
    }
  ]
}